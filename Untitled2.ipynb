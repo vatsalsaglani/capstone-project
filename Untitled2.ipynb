{
 "cells": [
  {
   "cell_type": "code",
   "execution_count": 1,
   "metadata": {
    "ExecuteTime": {
     "end_time": "2019-02-26T13:32:10.757815Z",
     "start_time": "2019-02-26T13:32:07.716775Z"
    },
    "collapsed": true
   },
   "outputs": [],
   "source": [
    "import warnings\n",
    "warnings.filterwarnings('ignore')\n",
    "\n",
    "# all import statements\n",
    "import numpy as np\n",
    "import pandas as pd\n",
    "import pydicom as pyd\n",
    "import os\n",
    "import matplotlib.pyplot as plt\n",
    "import mudicom\n",
    "import scipy\n",
    "import pickle\n",
    "import cv2\n",
    "import math\n",
    "import statistics\n",
    "\n",
    "from numpy import newaxis\n",
    "from numpy import array\n",
    "from os.path import dirname, join\n",
    "from pydicom.data import get_testdata_files\n",
    "from pydicom.filereader import read_dicomdir\n",
    "from PIL import Image\n",
    "from scipy.misc import imresize\n",
    "from scipy.signal import convolve2d\n",
    "from skimage.segmentation import slic, mark_boundaries, clear_border\n",
    "from skimage.measure import label, regionprops\n",
    "from skimage.filters import threshold_otsu\n",
    "from skimage.morphology import closing, square\n",
    "from skimage.color import label2rgb\n",
    "from scipy import ndimage as ndi\n",
    "from skimage.morphology import watershed\n",
    "from skimage.feature import peak_local_max\n",
    "from skimage.measure import shannon_entropy\n",
    "from skimage import io, color, img_as_ubyte\n",
    "from skimage.feature import greycomatrix, greycoprops\n",
    "from sklearn.metrics.cluster import entropy\n"
   ]
  },
  {
   "cell_type": "code",
   "execution_count": 2,
   "metadata": {
    "ExecuteTime": {
     "end_time": "2019-02-26T13:32:11.737084Z",
     "start_time": "2019-02-26T13:32:11.441816Z"
    }
   },
   "outputs": [
    {
     "data": {
      "text/plain": [
       "26684"
      ]
     },
     "execution_count": 2,
     "metadata": {},
     "output_type": "execute_result"
    }
   ],
   "source": [
    "PATH = 'data/stage_2_train_images/'\n",
    "\n",
    "lstFilesDCM = []  \n",
    "for dirName, subdirList, fileList in os.walk(PATH):\n",
    "    for filename in fileList:\n",
    "        if \".dcm\" in filename.lower():  # check whether the file's DICOM\n",
    "            lstFilesDCM.append(os.path.join(dirName,filename))\n",
    "\n",
    "len(lstFilesDCM)"
   ]
  },
  {
   "cell_type": "code",
   "execution_count": 5,
   "metadata": {
    "ExecuteTime": {
     "end_time": "2019-02-26T04:03:16.797490Z",
     "start_time": "2019-02-26T04:03:15.727164Z"
    }
   },
   "outputs": [
    {
     "name": "stdout",
     "output_type": "stream",
     "text": [
      "Requirement already up-to-date: tqdm in /usr/local/lib/python3.7/site-packages (4.31.1)\r\n"
     ]
    }
   ],
   "source": [
    "!pip3 install -U --user tqdm"
   ]
  },
  {
   "cell_type": "code",
   "execution_count": 3,
   "metadata": {
    "ExecuteTime": {
     "end_time": "2019-02-26T13:32:16.092965Z",
     "start_time": "2019-02-26T13:32:16.074475Z"
    },
    "collapsed": true
   },
   "outputs": [],
   "source": [
    "from tqdm import tqdm\n",
    "import sys\n",
    "from time import sleep"
   ]
  },
  {
   "cell_type": "code",
   "execution_count": 4,
   "metadata": {
    "ExecuteTime": {
     "end_time": "2019-02-26T13:32:18.683489Z",
     "start_time": "2019-02-26T13:32:18.675190Z"
    },
    "collapsed": true
   },
   "outputs": [],
   "source": [
    "dcm_ = []\n",
    "for img in range(len(lstFilesDCM)):\n",
    "    dcm_.append(lstFilesDCM[img])"
   ]
  },
  {
   "cell_type": "code",
   "execution_count": 5,
   "metadata": {
    "ExecuteTime": {
     "end_time": "2019-02-26T13:32:20.657852Z",
     "start_time": "2019-02-26T13:32:20.655165Z"
    },
    "collapsed": true
   },
   "outputs": [],
   "source": [
    "# with tqdm(total=len(values), file=sys.stdout) as pbar:\n",
    "#     for i in values:\n",
    "#         pbar.write('processed: %d' % (1 + i))\n",
    "#         pbar.update(1)\n",
    "#         sleep(1)"
   ]
  },
  {
   "cell_type": "code",
   "execution_count": null,
   "metadata": {
    "ExecuteTime": {
     "start_time": "2019-02-26T13:32:31.206Z"
    }
   },
   "outputs": [
    {
     "name": "stdout",
     "output_type": "stream",
     "text": [
      " 27%|██▋       | 7109/26684 [03:57<13:07, 24.85it/s]"
     ]
    }
   ],
   "source": [
    "dcm_np = []\n",
    "pat_ids = []\n",
    "\n",
    "with tqdm(total=len(dcm_), file=sys.stdout) as pbar:\n",
    "    \n",
    "    for dcm in dcm_:\n",
    "        pat_ids.append(dcm.split('/')[2].split('.')[0])\n",
    "        img = mudicom.load(dcm)\n",
    "        img = img.image\n",
    "        img = img.numpy\n",
    "        dcm_np.append(img)\n",
    "#         pbar.write('processed: %d' %(1+dcm))\n",
    "        pbar.update(1)\n",
    "#         sleep(1)"
   ]
  },
  {
   "cell_type": "code",
   "execution_count": null,
   "metadata": {
    "collapsed": true
   },
   "outputs": [],
   "source": [
    "labels_data = pd.read_csv('data/stage_2_train_labels.csv'); labels_data.head()"
   ]
  },
  {
   "cell_type": "code",
   "execution_count": null,
   "metadata": {
    "collapsed": true
   },
   "outputs": [],
   "source": [
    "labels_patID = labels_data.patientId.values.tolist()\n",
    "\n",
    "labels_target = labels_data.Target.values.tolist()\n",
    "\n",
    "labels_x = labels_data.x.values.tolist()\n",
    "\n",
    "labels_y = labels_data.y.values.tolist()\n",
    "\n",
    "labels_width = labels_data.width.tolist()\n",
    "\n",
    "labels_height = labels_data.height.tolist()"
   ]
  },
  {
   "cell_type": "code",
   "execution_count": null,
   "metadata": {
    "collapsed": true
   },
   "outputs": [],
   "source": [
    "dcm_np_target = []\n",
    "dcm_np_x = []\n",
    "dcm_np_y = []\n",
    "dcm_np_width = []\n",
    "dcm_np_height = []\n",
    "for data in pat_ids:\n",
    "    if data in labels_patID:\n",
    "        idx = labels_patID.index(data)\n",
    "        dcm_np_target.append(labels_target[idx])\n",
    "        dcm_np_x.append(labels_x[idx])\n",
    "        dcm_np_y.append(labels_y[idx])\n",
    "        dcm_np_width.append(labels_width[idx])\n",
    "        dcm_np_height.append(labels_height[idx])"
   ]
  }
 ],
 "metadata": {
  "kernelspec": {
   "display_name": "PNEUMO",
   "language": "python",
   "name": "pneumo"
  },
  "language_info": {
   "codemirror_mode": {
    "name": "ipython",
    "version": 3
   },
   "file_extension": ".py",
   "mimetype": "text/x-python",
   "name": "python",
   "nbconvert_exporter": "python",
   "pygments_lexer": "ipython3",
   "version": "3.7.2"
  },
  "toc": {
   "base_numbering": 1,
   "nav_menu": {},
   "number_sections": true,
   "sideBar": true,
   "skip_h1_title": false,
   "title_cell": "Table of Contents",
   "title_sidebar": "Contents",
   "toc_cell": false,
   "toc_position": {},
   "toc_section_display": true,
   "toc_window_display": false
  },
  "varInspector": {
   "cols": {
    "lenName": 16,
    "lenType": 16,
    "lenVar": 40
   },
   "kernels_config": {
    "python": {
     "delete_cmd_postfix": "",
     "delete_cmd_prefix": "del ",
     "library": "var_list.py",
     "varRefreshCmd": "print(var_dic_list())"
    },
    "r": {
     "delete_cmd_postfix": ") ",
     "delete_cmd_prefix": "rm(",
     "library": "var_list.r",
     "varRefreshCmd": "cat(var_dic_list()) "
    }
   },
   "types_to_exclude": [
    "module",
    "function",
    "builtin_function_or_method",
    "instance",
    "_Feature"
   ],
   "window_display": false
  }
 },
 "nbformat": 4,
 "nbformat_minor": 2
}
