{
 "cells": [
  {
   "cell_type": "markdown",
   "metadata": {},
   "source": [
    "<h1><center>CBIR Feature Extraction Package</center></h1>"
   ]
  },
  {
   "cell_type": "markdown",
   "metadata": {},
   "source": [
    "## Imports and Modules Used"
   ]
  },
  {
   "cell_type": "code",
   "execution_count": 2,
   "metadata": {
    "ExecuteTime": {
     "end_time": "2019-02-25T13:31:14.079272Z",
     "start_time": "2019-02-25T13:31:14.074822Z"
    },
    "collapsed": true
   },
   "outputs": [],
   "source": [
    "import warnings\n",
    "warnings.filterwarnings('ignore')"
   ]
  },
  {
   "cell_type": "code",
   "execution_count": 7,
   "metadata": {
    "ExecuteTime": {
     "end_time": "2019-02-25T13:49:03.437173Z",
     "start_time": "2019-02-25T13:49:01.806185Z"
    },
    "collapsed": true
   },
   "outputs": [],
   "source": [
    "# all import statements\n",
    "import numpy as np\n",
    "import pandas as pd\n",
    "import pydicom as pyd\n",
    "import os\n",
    "import matplotlib.pyplot as plt\n",
    "import mudicom\n",
    "import scipy\n",
    "import pickle\n",
    "import cv2\n",
    "import math\n",
    "import statistics\n",
    "\n",
    "from numpy import newaxis\n",
    "from numpy import array\n",
    "from os.path import dirname, join\n",
    "from pydicom.data import get_testdata_files\n",
    "from pydicom.filereader import read_dicomdir\n",
    "from PIL import Image\n",
    "from scipy.misc import imresize\n",
    "from scipy.signal import convolve2d\n",
    "from skimage.segmentation import slic, mark_boundaries, clear_border\n",
    "from skimage.measure import label, regionprops\n",
    "from skimage.filters import threshold_otsu\n",
    "from skimage.morphology import closing, square\n",
    "from skimage.color import label2rgb\n",
    "from scipy import ndimage as ndi\n",
    "from skimage.morphology import watershed\n",
    "from skimage.feature import peak_local_max\n",
    "from skimage.measure import shannon_entropy\n",
    "from skimage import io, color, img_as_ubyte\n",
    "from skimage.feature import greycomatrix, greycoprops\n",
    "from sklearn.metrics.cluster import entropy\n"
   ]
  },
  {
   "cell_type": "markdown",
   "metadata": {},
   "source": [
    "**_load__pickle(path__to__pickleFileName)_**: Loads any pickle file saved on the disk."
   ]
  },
  {
   "cell_type": "code",
   "execution_count": 3,
   "metadata": {
    "ExecuteTime": {
     "end_time": "2019-02-25T13:33:10.882536Z",
     "start_time": "2019-02-25T13:33:10.877187Z"
    },
    "collapsed": true
   },
   "outputs": [],
   "source": [
    "def load_pickle(fileName):\n",
    "    with open(fileName, \"rb\") as fp:\n",
    "        file = pickle.load(fp)\n",
    "    return file "
   ]
  },
  {
   "cell_type": "markdown",
   "metadata": {},
   "source": [
    "Loading saved Pickle file"
   ]
  },
  {
   "cell_type": "markdown",
   "metadata": {
    "heading_collapsed": true
   },
   "source": [
    "# Data"
   ]
  },
  {
   "cell_type": "code",
   "execution_count": 4,
   "metadata": {
    "ExecuteTime": {
     "end_time": "2019-02-25T13:37:20.861466Z",
     "start_time": "2019-02-25T13:36:51.962157Z"
    },
    "collapsed": true,
    "hidden": true
   },
   "outputs": [],
   "source": [
    "dcm = load_pickle(\"DCM_NP\")\n",
    "dcm_adahist = load_pickle(\"DCM-ADAHIST\")\n",
    "dcm_eq = load_pickle(\"DCM-EQ\")\n",
    "dcm_target = load_pickle(\"dcm_target\")\n",
    "dcm_x = load_pickle(\"dcm_x\")\n",
    "dcm_y = load_pickle(\"dcm_y\")\n",
    "dcm_width = load_pickle(\"dcm_width\")\n",
    "dcm_height = load_pickle(\"dcm_height\")\n",
    "pat_id = load_pickle(\"PAT_IDS\")"
   ]
  },
  {
   "cell_type": "markdown",
   "metadata": {},
   "source": [
    "# Helper Methods"
   ]
  },
  {
   "cell_type": "markdown",
   "metadata": {},
   "source": [
    "**_load__pickle(path__to__pickleFileName)_**: Loads any pickle file saved on the disk."
   ]
  },
  {
   "cell_type": "code",
   "execution_count": null,
   "metadata": {
    "collapsed": true
   },
   "outputs": [],
   "source": [
    "def load_pickle(fileName):\n",
    "    with open(fileName, \"rb\") as fp:\n",
    "        file = pickle.load(fp)\n",
    "    return file "
   ]
  },
  {
   "cell_type": "markdown",
   "metadata": {},
   "source": [
    "**_show(image, title = None)_**: Shows the numpy.ndarray or the image with the title if the title is provided."
   ]
  },
  {
   "cell_type": "code",
   "execution_count": 5,
   "metadata": {
    "ExecuteTime": {
     "end_time": "2019-02-25T13:39:45.386285Z",
     "start_time": "2019-02-25T13:39:45.374968Z"
    },
    "collapsed": true
   },
   "outputs": [],
   "source": [
    "def show(img, title=None):\n",
    "    plt.imshow(img, cmap=plt.cm.bone)\n",
    "    if title is not None: plt.title = title"
   ]
  },
  {
   "cell_type": "markdown",
   "metadata": {},
   "source": [
    "**_plots(image__list, figsize = (12,6), rows = 2, titles = None)_**: Given images names or numpy.ndarray in a _list_ it will display with a default _figure size_ and _number of rows_ and if given the list of _titles_ with each image it will also display it above the images."
   ]
  },
  {
   "cell_type": "code",
   "execution_count": 6,
   "metadata": {
    "ExecuteTime": {
     "end_time": "2019-02-25T13:42:56.008828Z",
     "start_time": "2019-02-25T13:42:55.996086Z"
    },
    "collapsed": true
   },
   "outputs": [],
   "source": [
    "def plots(ims, figsize=(12,6), rows=2, titles=None):\n",
    "    f = plt.figure(figsize=figsize)\n",
    "    cols = len(ims)//rows\n",
    "    for i in range(len(ims)):\n",
    "        sp = f.add_subplot(rows, cols, i+1)\n",
    "        sp.axis('Off')\n",
    "        if titles is not None: sp.set_title(titles[i], fontsize=16)\n",
    "        plt.imshow(ims[i], cmap=plt.cm.bone)"
   ]
  },
  {
   "cell_type": "markdown",
   "metadata": {},
   "source": [
    "An amatuer way of finding mean of a list containing integers or floats"
   ]
  },
  {
   "cell_type": "code",
   "execution_count": 22,
   "metadata": {
    "ExecuteTime": {
     "end_time": "2019-02-25T14:04:17.612310Z",
     "start_time": "2019-02-25T14:04:17.605194Z"
    },
    "collapsed": true
   },
   "outputs": [],
   "source": [
    "def mean_from_list(listname):\n",
    "    listname = pd.Series(listname).fillna(0).tolist()\n",
    "    counts = 0\n",
    "    total = 0\n",
    "    for e in listname:\n",
    "        if e != 0:\n",
    "            counts = counts + 1\n",
    "            total = total + e\n",
    "    return total/counts"
   ]
  },
  {
   "cell_type": "markdown",
   "metadata": {
    "heading_collapsed": true
   },
   "source": [
    "# GLCM Feature Extraction"
   ]
  },
  {
   "cell_type": "code",
   "execution_count": 16,
   "metadata": {
    "ExecuteTime": {
     "end_time": "2019-02-25T14:00:18.501894Z",
     "start_time": "2019-02-25T14:00:18.489005Z"
    },
    "collapsed": true,
    "hidden": true
   },
   "outputs": [],
   "source": [
    "def s_entropy(image):\n",
    "    return shannon_entropy(image)\n",
    "\n",
    "def entropy_simple(image):\n",
    "    return entropy(image)\n",
    "\n",
    "class glcm:\n",
    "    def __init__(self, image, distances = [1, 2, 3], angles = [0, np.pi/4, np.pi/2, 3*np.pi/4], properties = ['energy', 'contrast', 'homogeneity', 'correlation']):\n",
    "        self.image = img_as_ubyte(image.astype('int64'))\n",
    "        self.distances = distances\n",
    "        self.angles = angles\n",
    "        self.glcm_mat = greycomatrix(self.image, distances = self.distances, angles = self.angles, symmetric = True, normed = True)\n",
    "        self.properties = properties\n",
    "        \n",
    "    def correlation(self):\n",
    "        return greycoprops(self.glcm_mat, 'correlation').flatten()\n",
    "    \n",
    "    def homogeneity(self):\n",
    "        return greycoprops(self.glcm_mat, 'homogeneity').flatten()\n",
    "    \n",
    "    def contrast(self):\n",
    "        return greycoprops(self.glcm_mat, 'contrast').flatten()\n",
    "    \n",
    "    def energy(self):\n",
    "        return greycoprops(self.glcm_mat, 'energy').flatten()\n",
    "    \n",
    "    def glcm_all(self):\n",
    "        return np.hstack([greycoprops(self.glcm_mat, props).ravel() for props in self.properties])\n",
    "    \n",
    "        "
   ]
  },
  {
   "cell_type": "code",
   "execution_count": 21,
   "metadata": {
    "ExecuteTime": {
     "end_time": "2019-02-25T14:03:11.879669Z",
     "start_time": "2019-02-25T14:03:11.875759Z"
    },
    "collapsed": true,
    "hidden": true
   },
   "outputs": [],
   "source": [
    "# a = glcm(image, distances = [1,2,4], angles = [0, np.pi/3, 2*np.pi/3, 3*np.pi/4], properties = ['energy', 'contrast']); a.glcm_all(), a.correlation(), a.homogeneity(), a.contrast(), a.energy()"
   ]
  },
  {
   "cell_type": "markdown",
   "metadata": {},
   "source": [
    "# Region Properties"
   ]
  },
  {
   "cell_type": "code",
   "execution_count": 41,
   "metadata": {
    "ExecuteTime": {
     "end_time": "2019-02-25T14:49:02.972818Z",
     "start_time": "2019-02-25T14:49:02.953125Z"
    },
    "collapsed": true
   },
   "outputs": [],
   "source": [
    "class region_props:\n",
    "    def __init__(self, image, sq = square(3)):\n",
    "        self.image = image.astype('int64')\n",
    "        self.thresh = threshold_otsu(self.image)\n",
    "        self.bw = closing(self.image > self.thresh, sq)\n",
    "        self.bw_clear = clear_border(self.bw)\n",
    "        self.bw_label = label(self.bw_clear)\n",
    "        self.regions = regionprops(self.bw_label)\n",
    "        self.lista = []\n",
    "        for e in self.regions:\n",
    "            self.lista.append(e.area)\n",
    "        self.idx = self.lista.index(max(self.lista))\n",
    "    \n",
    "    def plot_show_bw(self):\n",
    "        show(self.bw)\n",
    "        \n",
    "    def plot_image(self):\n",
    "        show(self.bw_clear)\n",
    "        \n",
    "    def plot_image_with_label(self):\n",
    "        show(self.bw_label)\n",
    "        \n",
    "    def max_area(self):\n",
    "        return max(self.lista)\n",
    "    \n",
    "    def eccentricity(self):\n",
    "        return self.regions[self.idx].eccentricity\n",
    "    \n",
    "    def euler_number(self):\n",
    "        return self.regions[self.idx].euler_number\n",
    "    \n",
    "    def solidity(self):\n",
    "        return self.regions[self.idx].solidity\n",
    "    \n",
    "    def perimeter(self):\n",
    "        return self.regions[self.idx].perimeter\n",
    "    \n",
    "    def mean_area(self):\n",
    "        return statistics.mean(self.lista)\n",
    "    \n",
    "    def std_area(self):\n",
    "        return statistics.stdev(self.lista)\n",
    "    \n",
    "    def thresh_img(self):\n",
    "        return self.thresh\n",
    "    \n",
    "    def bb(self):\n",
    "        return self.regions[self.idx].bbox\n",
    "    \n",
    "    def bb_area(self):\n",
    "        return self.regions[self.idx].bbox_area\n",
    "    \n",
    "    def centroid_r(self):\n",
    "        return self.regions[self.idx].centroid\n",
    "    \n",
    "    def convex_area_r(self):\n",
    "        return self.regions[self.idx].convex_area\n",
    "    \n",
    "    def coordinates_r(self):\n",
    "        return self.regions[self.idx].coords\n",
    "    \n",
    "    def eq_diameter(self):\n",
    "        return self.regions[self.idx].equivalent_diameter\n",
    "    \n",
    "    def extent_r(self):\n",
    "        return self.regions[self.idx].extent\n",
    "    \n",
    "    def filled_area_r(self):\n",
    "        return self.regions[self.idx].filled_area\n",
    "    \n",
    "    def inertia_tensor_r(self):\n",
    "        return self.regions[self.idx].inertia_tensor\n",
    "    \n",
    "    def inertia_tensor_eigvals_r(self):\n",
    "        return self.regions[self.idx].inertia_tensor_eigvals\n",
    "    \n",
    "    def label_r(self):\n",
    "        return self.regions[self.idx].label\n",
    "    \n",
    "    def local_centroid_r(self):\n",
    "        return self.regions[self.idx].local_centroid\n",
    "    \n",
    "    def maj_ax_len(self):\n",
    "        return self.regions[self.idx].major_axis_length\n",
    "    \n",
    "    def min_ax_len(self):\n",
    "        return self.regions[self.idx].minor_axis_length\n",
    "    \n",
    "    def orient(self):\n",
    "        return self.regions[self.idx].orientation"
   ]
  },
  {
   "cell_type": "code",
   "execution_count": 43,
   "metadata": {
    "ExecuteTime": {
     "end_time": "2019-02-25T14:49:53.477280Z",
     "start_time": "2019-02-25T14:49:53.474304Z"
    },
    "collapsed": true
   },
   "outputs": [],
   "source": [
    "# region_props(image).orient(), region_props(image).local_centroid_r()"
   ]
  },
  {
   "cell_type": "markdown",
   "metadata": {
    "heading_collapsed": true
   },
   "source": [
    "# WaterShed Segmentation"
   ]
  },
  {
   "cell_type": "code",
   "execution_count": 48,
   "metadata": {
    "ExecuteTime": {
     "end_time": "2019-02-25T14:51:32.778463Z",
     "start_time": "2019-02-25T14:51:32.773526Z"
    },
    "collapsed": true,
    "hidden": true
   },
   "outputs": [],
   "source": [
    "def water_seg(image, footprint = np.ones((3,3))):\n",
    "    distance = ndi.distance_transform_edt(image)\n",
    "    local_maxi = peak_local_max(distance, indices=False, footprint=footprint, labels=image)\n",
    "    markers = ndi.label(local_maxi)[0]\n",
    "    labels = watershed(-distance, markers, mask = image)\n",
    "    show(labels)"
   ]
  },
  {
   "cell_type": "code",
   "execution_count": 50,
   "metadata": {
    "ExecuteTime": {
     "end_time": "2019-02-25T14:51:59.206969Z",
     "start_time": "2019-02-25T14:51:50.745946Z"
    },
    "hidden": true
   },
   "outputs": [
    {
     "data": {
      "image/png": "[encoded data removed]",
      "text/plain": [
       "<Figure size 432x288 with 1 Axes>"
      ]
     },
     "metadata": {
      "needs_background": "light"
     },
     "output_type": "display_data"
    }
   ],
   "source": [
    "water_seg(image, footprint = np.ones((3,3)))"
   ]
  },
  {
   "cell_type": "markdown",
   "metadata": {
    "heading_collapsed": true
   },
   "source": [
    "# Moments"
   ]
  },
  {
   "cell_type": "code",
   "execution_count": 51,
   "metadata": {
    "ExecuteTime": {
     "end_time": "2019-02-25T14:52:31.297338Z",
     "start_time": "2019-02-25T14:52:31.291597Z"
    },
    "collapsed": true,
    "hidden": true
   },
   "outputs": [],
   "source": [
    "class moments:\n",
    "    \n",
    "    def __init__(self, image):\n",
    "        self.image = image\n",
    "        self.moment = cv2.moments(self.image)\n",
    "        self.hu = cv2.HuMoments(self.moment)\n",
    "        \n",
    "    def get_moments(self):\n",
    "#         keys = [key for key in self.moment.keys()]\n",
    "        values = [value for value in self.moment.values()]\n",
    "        return values\n",
    "    \n",
    "    def get_HuMoments(self):\n",
    "        moments_hu = []\n",
    "        for m in range(len(self.hu)):\n",
    "            moments_hu.append(self.hu[m][0])\n",
    "        return moments_hu"
   ]
  }
 ],
 "metadata": {
  "kernelspec": {
   "display_name": "PNEUMO",
   "language": "python",
   "name": "pneumo"
  },
  "language_info": {
   "codemirror_mode": {
    "name": "ipython",
    "version": 3
   },
   "file_extension": ".py",
   "mimetype": "text/x-python",
   "name": "python",
   "nbconvert_exporter": "python",
   "pygments_lexer": "ipython3",
   "version": "3.7.2"
  },
  "toc": {
   "base_numbering": 1,
   "nav_menu": {},
   "number_sections": true,
   "sideBar": true,
   "skip_h1_title": false,
   "title_cell": "Table of Contents",
   "title_sidebar": "Contents",
   "toc_cell": false,
   "toc_position": {},
   "toc_section_display": true,
   "toc_window_display": false
  },
  "varInspector": {
   "cols": {
    "lenName": 16,
    "lenType": 16,
    "lenVar": 40
   },
   "kernels_config": {
    "python": {
     "delete_cmd_postfix": "",
     "delete_cmd_prefix": "del ",
     "library": "var_list.py",
     "varRefreshCmd": "print(var_dic_list())"
    },
    "r": {
     "delete_cmd_postfix": ") ",
     "delete_cmd_prefix": "rm(",
     "library": "var_list.r",
     "varRefreshCmd": "cat(var_dic_list()) "
    }
   },
   "types_to_exclude": [
    "module",
    "function",
    "builtin_function_or_method",
    "instance",
    "_Feature"
   ],
   "window_display": false
  }
 },
 "nbformat": 4,
 "nbformat_minor": 2
}
