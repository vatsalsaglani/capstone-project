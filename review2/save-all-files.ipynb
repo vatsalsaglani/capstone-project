{
 "cells": [
  {
   "cell_type": "code",
   "execution_count": 1,
   "metadata": {},
   "outputs": [],
   "source": [
    "import warnings\n",
    "warnings.filterwarnings('ignore')\n",
    "\n",
    "# all import statements\n",
    "import numpy as np\n",
    "import pickle\n",
    "import pandas as pd\n",
    "import pydicom as pyd\n",
    "import os\n",
    "import matplotlib.pyplot as plt\n",
    "import mudicom\n",
    "import scipy\n",
    "import pickle\n",
    "import cv2\n",
    "import math\n",
    "import statistics\n",
    "\n",
    "from numpy import newaxis\n",
    "from numpy import array\n",
    "from os.path import dirname, join\n",
    "from pydicom.data import get_testdata_files\n",
    "from pydicom.filereader import read_dicomdir\n",
    "from PIL import Image\n",
    "from scipy.misc import imresize\n",
    "from scipy.signal import convolve2d\n",
    "from skimage.segmentation import slic, mark_boundaries, clear_border\n",
    "from skimage.measure import label, regionprops\n",
    "from skimage.filters import threshold_otsu\n",
    "from skimage.morphology import closing, square\n",
    "from skimage.color import label2rgb\n",
    "from scipy import ndimage as ndi\n",
    "from skimage.morphology import watershed\n",
    "from skimage.feature import peak_local_max\n",
    "from skimage.measure import shannon_entropy\n",
    "from skimage import io, color, img_as_ubyte\n",
    "from skimage.feature import greycomatrix, greycoprops\n",
    "from sklearn.metrics.cluster import entropy\n"
   ]
  },
  {
   "cell_type": "code",
   "execution_count": 2,
   "metadata": {},
   "outputs": [
    {
     "data": {
      "text/plain": [
       "3000"
      ]
     },
     "execution_count": 2,
     "metadata": {},
     "output_type": "execute_result"
    }
   ],
   "source": [
    "PATH = 'data-test/'\n",
    "\n",
    "lstFilesDCM = []  \n",
    "for dirName, subdirList, fileList in os.walk(PATH):\n",
    "    for filename in fileList:\n",
    "        if \".dcm\" in filename.lower():  # check whether the file's DICOM\n",
    "            lstFilesDCM.append(os.path.join(dirName,filename))\n",
    "\n",
    "len(lstFilesDCM)"
   ]
  },
  {
   "cell_type": "code",
   "execution_count": 3,
   "metadata": {},
   "outputs": [],
   "source": [
    "from tqdm import tqdm\n",
    "import sys\n",
    "from time import sleep"
   ]
  },
  {
   "cell_type": "code",
   "execution_count": 4,
   "metadata": {},
   "outputs": [],
   "source": [
    "dcm_ = []\n",
    "for img in range(len(lstFilesDCM)):\n",
    "    dcm_.append(lstFilesDCM[img])"
   ]
  },
  {
   "cell_type": "code",
   "execution_count": 5,
   "metadata": {},
   "outputs": [
    {
     "name": "stdout",
     "output_type": "stream",
     "text": [
      "100%|██████████| 3000/3000 [00:23<00:00, 129.30it/s]\n"
     ]
    }
   ],
   "source": [
    "dcm_np = []\n",
    "pat_ids = []\n",
    "\n",
    "with tqdm(total=len(dcm_), file=sys.stdout) as pbar:\n",
    "    for dcm in dcm_:\n",
    "        pat_ids.append(dcm.split('/')[1].split('.')[0])\n",
    "        img = pyd.dcmread(dcm)\n",
    "        img = img.pixel_array\n",
    "        dcm_np.append(img)\n",
    "        pbar.update(1)\n",
    "#         sleep(1)"
   ]
  },
  {
   "cell_type": "code",
   "execution_count": 7,
   "metadata": {},
   "outputs": [],
   "source": [
    "save_to_pickle(dcm_np, \"dcm-test\")\n",
    "save_to_pickle(pat_ids, \"pat-test\")"
   ]
  },
  {
   "cell_type": "code",
   "execution_count": 45,
   "metadata": {},
   "outputs": [
    {
     "name": "stderr",
     "output_type": "stream",
     "text": [
      "100%|██████████| 4000/4000 [00:00<00:00, 889141.77it/s]\n"
     ]
    }
   ],
   "source": [
    "dcm_0_3999 = []\n",
    "pat_0_3999 = []\n",
    "for i in tqdm(range(0, 4000)):\n",
    "    dcm_0_3999.append(dcm_np[i])\n",
    "    pat_0_3999.append(pat_ids[i])"
   ]
  },
  {
   "cell_type": "code",
   "execution_count": 46,
   "metadata": {},
   "outputs": [
    {
     "name": "stderr",
     "output_type": "stream",
     "text": [
      "100%|██████████| 4000/4000 [00:00<00:00, 1042127.83it/s]\n"
     ]
    }
   ],
   "source": [
    "dcm_4000_7999 = []\n",
    "pat_4000_7999 = []\n",
    "for i in tqdm(range(4000, 8000)):\n",
    "    dcm_4000_7999.append(dcm_np[i])\n",
    "    pat_4000_7999.append(pat_ids[i])"
   ]
  },
  {
   "cell_type": "code",
   "execution_count": 47,
   "metadata": {},
   "outputs": [
    {
     "name": "stderr",
     "output_type": "stream",
     "text": [
      "100%|██████████| 4000/4000 [00:00<00:00, 1009216.55it/s]\n"
     ]
    }
   ],
   "source": [
    "dcm_8000_11999 = []\n",
    "pat_8000_11999 = []\n",
    "for i in tqdm(range(8000, 12000)):\n",
    "    dcm_8000_11999.append(dcm_np[i])\n",
    "    pat_8000_11999.append(pat_ids[i])"
   ]
  },
  {
   "cell_type": "code",
   "execution_count": 48,
   "metadata": {},
   "outputs": [
    {
     "name": "stderr",
     "output_type": "stream",
     "text": [
      "100%|██████████| 4000/4000 [00:00<00:00, 1424332.80it/s]\n"
     ]
    }
   ],
   "source": [
    "dcm_12000_15999 = []\n",
    "pat_12000_15999 = []\n",
    "for i in tqdm(range(12000, 16000)):\n",
    "    dcm_12000_15999.append(dcm_np[i])\n",
    "    pat_12000_15999.append(pat_ids[i])"
   ]
  },
  {
   "cell_type": "code",
   "execution_count": 49,
   "metadata": {},
   "outputs": [
    {
     "name": "stderr",
     "output_type": "stream",
     "text": [
      "100%|██████████| 4000/4000 [00:00<00:00, 1187683.42it/s]\n"
     ]
    }
   ],
   "source": [
    "dcm_16000_19999 = []\n",
    "pat_16000_19999 = []\n",
    "for i in tqdm(range(16000, 20000)):\n",
    "    dcm_16000_19999.append(dcm_np[i])\n",
    "    pat_16000_19999.append(pat_ids[i])"
   ]
  },
  {
   "cell_type": "code",
   "execution_count": 50,
   "metadata": {},
   "outputs": [
    {
     "name": "stderr",
     "output_type": "stream",
     "text": [
      "100%|██████████| 4000/4000 [00:00<00:00, 1087946.05it/s]\n"
     ]
    }
   ],
   "source": [
    "dcm_20000_23999 = []\n",
    "pat_20000_23999 = []\n",
    "for i in tqdm(range(20000, 24000)):\n",
    "    dcm_20000_23999.append(dcm_np[i])\n",
    "    pat_20000_23999.append(pat_ids[i])"
   ]
  },
  {
   "cell_type": "code",
   "execution_count": 52,
   "metadata": {},
   "outputs": [
    {
     "name": "stderr",
     "output_type": "stream",
     "text": [
      "100%|██████████| 2684/2684 [00:00<00:00, 1136892.74it/s]\n"
     ]
    }
   ],
   "source": [
    "dcm_24000_ = []\n",
    "pat_24000_ = []\n",
    "for i in tqdm(range(24000, 26684)):\n",
    "    dcm_24000_.append(dcm_np[i])\n",
    "    pat_24000_.append(pat_ids[i])"
   ]
  },
  {
   "cell_type": "code",
   "execution_count": 56,
   "metadata": {},
   "outputs": [
    {
     "data": {
      "text/plain": [
       "(4000, 4000, 4000, 4000, 4000, 4000, 2684)"
      ]
     },
     "execution_count": 56,
     "metadata": {},
     "output_type": "execute_result"
    }
   ],
   "source": [
    "len(dcm_0_3999), len(pat_4000_7999), len(pat_8000_11999), len(pat_12000_15999), len(pat_16000_19999), len(pat_20000_23999), len(pat_24000_)"
   ]
  },
  {
   "cell_type": "code",
   "execution_count": 6,
   "metadata": {},
   "outputs": [],
   "source": [
    "def save_to_pickle(file, filename):\n",
    "    with open(filename, \"wb\") as fp:\n",
    "        pickle.dump(file, fp)"
   ]
  },
  {
   "cell_type": "code",
   "execution_count": 59,
   "metadata": {},
   "outputs": [],
   "source": [
    "save_to_pickle(dcm_0_3999, \"dcm-1\")"
   ]
  },
  {
   "cell_type": "code",
   "execution_count": 60,
   "metadata": {},
   "outputs": [],
   "source": [
    "save_to_pickle(pat_0_3999, \"pat-1\")"
   ]
  },
  {
   "cell_type": "code",
   "execution_count": 61,
   "metadata": {},
   "outputs": [],
   "source": [
    "save_to_pickle(dcm_4000_7999, \"dcm-2\")"
   ]
  },
  {
   "cell_type": "code",
   "execution_count": 62,
   "metadata": {},
   "outputs": [],
   "source": [
    "save_to_pickle(pat_4000_7999, \"pat-2\")"
   ]
  },
  {
   "cell_type": "code",
   "execution_count": 63,
   "metadata": {},
   "outputs": [],
   "source": [
    "save_to_pickle(dcm_8000_11999, \"dcm-3\")\n",
    "save_to_pickle(pat_8000_11999, \"pat-3\")"
   ]
  },
  {
   "cell_type": "code",
   "execution_count": 64,
   "metadata": {},
   "outputs": [],
   "source": [
    "save_to_pickle(dcm_12000_15999, \"dcm-4\")\n",
    "save_to_pickle(pat_12000_15999, \"pat-4\")"
   ]
  },
  {
   "cell_type": "code",
   "execution_count": 65,
   "metadata": {},
   "outputs": [],
   "source": [
    "save_to_pickle(dcm_16000_19999, \"dcm-5\")\n",
    "save_to_pickle(pat_16000_19999, \"pat-5\")"
   ]
  },
  {
   "cell_type": "code",
   "execution_count": 66,
   "metadata": {},
   "outputs": [],
   "source": [
    "save_to_pickle(dcm_20000_23999, \"dcm-6\")\n",
    "save_to_pickle(pat_20000_23999, \"pat-6\")"
   ]
  },
  {
   "cell_type": "code",
   "execution_count": 67,
   "metadata": {},
   "outputs": [],
   "source": [
    "save_to_pickle(dcm_24000_, \"dcm-7\")\n",
    "save_to_pickle(pat_24000_, \"pat-7\")"
   ]
  },
  {
   "cell_type": "markdown",
   "metadata": {},
   "source": [
    "# Adaptive EQ"
   ]
  },
  {
   "cell_type": "code",
   "execution_count": 73,
   "metadata": {},
   "outputs": [
    {
     "name": "stdout",
     "output_type": "stream",
     "text": [
      "  0%|          | 0/26684 [00:00<?, ?it/s]\n"
     ]
    },
    {
     "ename": "NameError",
     "evalue": "name 'exposure' is not defined",
     "output_type": "error",
     "traceback": [
      "\u001b[0;31m---------------------------------------------------------------------------\u001b[0m",
      "\u001b[0;31mNameError\u001b[0m                                 Traceback (most recent call last)",
      "\u001b[0;32m<ipython-input-73-6cc670915323>\u001b[0m in \u001b[0;36m<module>\u001b[0;34m\u001b[0m\n\u001b[1;32m      5\u001b[0m         \u001b[0mi_f\u001b[0m \u001b[0;34m=\u001b[0m \u001b[0mdcm\u001b[0m\u001b[0;34m\u001b[0m\u001b[0;34m\u001b[0m\u001b[0m\n\u001b[1;32m      6\u001b[0m         \u001b[0mi_int\u001b[0m \u001b[0;34m=\u001b[0m \u001b[0mdcm\u001b[0m\u001b[0;34m.\u001b[0m\u001b[0mastype\u001b[0m\u001b[0;34m(\u001b[0m\u001b[0;34m'int64'\u001b[0m\u001b[0;34m)\u001b[0m\u001b[0;34m\u001b[0m\u001b[0;34m\u001b[0m\u001b[0m\n\u001b[0;32m----> 7\u001b[0;31m         \u001b[0mdcm_ada1\u001b[0m\u001b[0;34m.\u001b[0m\u001b[0mappend\u001b[0m\u001b[0;34m(\u001b[0m\u001b[0mexposure\u001b[0m\u001b[0;34m.\u001b[0m\u001b[0mequalize_adapthist\u001b[0m\u001b[0;34m(\u001b[0m\u001b[0mi_int\u001b[0m\u001b[0;34m,\u001b[0m \u001b[0mclip_limit\u001b[0m\u001b[0;34m=\u001b[0m\u001b[0;36m0.03\u001b[0m\u001b[0;34m)\u001b[0m\u001b[0;34m)\u001b[0m\u001b[0;34m\u001b[0m\u001b[0;34m\u001b[0m\u001b[0m\n\u001b[0m\u001b[1;32m      8\u001b[0m         \u001b[0mpbar\u001b[0m\u001b[0;34m.\u001b[0m\u001b[0mupdate\u001b[0m\u001b[0;34m(\u001b[0m\u001b[0;36m1\u001b[0m\u001b[0;34m)\u001b[0m\u001b[0;34m\u001b[0m\u001b[0;34m\u001b[0m\u001b[0m\n\u001b[1;32m      9\u001b[0m \u001b[0;34m\u001b[0m\u001b[0m\n",
      "\u001b[0;31mNameError\u001b[0m: name 'exposure' is not defined"
     ]
    }
   ],
   "source": [
    "dcm_ada1 = []\n",
    "\n",
    "with tqdm(total=len(dcm_), file=sys.stdout) as pbar:\n",
    "    for dcm in dcm_0_3999:\n",
    "        i_f = dcm\n",
    "        i_int = dcm.astype('int64')\n",
    "        dcm_ada1.append(exposure.equalize_adapthist(i_int, clip_limit=0.03))\n",
    "        pbar.update(1)\n",
    "    "
   ]
  },
  {
   "cell_type": "code",
   "execution_count": 8,
   "metadata": {},
   "outputs": [
    {
     "name": "stdout",
     "output_type": "stream",
     "text": [
      "Collecting graphviz\n",
      "  Downloading https://files.pythonhosted.org/packages/1f/e2/ef2581b5b86625657afd32030f90cf2717456c1d2b711ba074bf007c0f1a/graphviz-0.10.1-py2.py3-none-any.whl\n",
      "Installing collected packages: graphviz\n",
      "Successfully installed graphviz-0.10.1\n"
     ]
    }
   ],
   "source": [
    "!pip3 install -U graphviz"
   ]
  },
  {
   "cell_type": "code",
   "execution_count": 9,
   "metadata": {},
   "outputs": [
    {
     "ename": "ModuleNotFoundError",
     "evalue": "No module named 'graphviz'",
     "output_type": "error",
     "traceback": [
      "\u001b[0;31m---------------------------------------------------------------------------\u001b[0m",
      "\u001b[0;31mModuleNotFoundError\u001b[0m                       Traceback (most recent call last)",
      "\u001b[0;32m<ipython-input-9-f7133d3517ab>\u001b[0m in \u001b[0;36m<module>\u001b[0;34m\u001b[0m\n\u001b[0;32m----> 1\u001b[0;31m \u001b[0;32mimport\u001b[0m \u001b[0mgraphviz\u001b[0m\u001b[0;34m\u001b[0m\u001b[0;34m\u001b[0m\u001b[0m\n\u001b[0m",
      "\u001b[0;31mModuleNotFoundError\u001b[0m: No module named 'graphviz'"
     ]
    }
   ],
   "source": [
    "import graphviz"
   ]
  },
  {
   "cell_type": "code",
   "execution_count": 10,
   "metadata": {},
   "outputs": [
    {
     "ename": "ModuleNotFoundError",
     "evalue": "No module named 'graphviz'",
     "output_type": "error",
     "traceback": [
      "\u001b[0;31m---------------------------------------------------------------------------\u001b[0m",
      "\u001b[0;31mModuleNotFoundError\u001b[0m                       Traceback (most recent call last)",
      "\u001b[0;32m<ipython-input-10-b94645d457e3>\u001b[0m in \u001b[0;36m<module>\u001b[0;34m\u001b[0m\n\u001b[0;32m----> 1\u001b[0;31m \u001b[0;32mfrom\u001b[0m \u001b[0mgraphviz\u001b[0m \u001b[0;32mimport\u001b[0m \u001b[0mDigraph\u001b[0m\u001b[0;34m\u001b[0m\u001b[0;34m\u001b[0m\u001b[0m\n\u001b[0m",
      "\u001b[0;31mModuleNotFoundError\u001b[0m: No module named 'graphviz'"
     ]
    }
   ],
   "source": [
    "from graphviz import Digraph"
   ]
  },
  {
   "cell_type": "code",
   "execution_count": 12,
   "metadata": {},
   "outputs": [
    {
     "name": "stdout",
     "output_type": "stream",
     "text": [
      "Package                            Version    \n",
      "---------------------------------- -----------\n",
      "alabaster                          0.7.12     \n",
      "anaconda-client                    1.7.2      \n",
      "anaconda-navigator                 1.9.6      \n",
      "anaconda-project                   0.8.2      \n",
      "asn1crypto                         0.24.0     \n",
      "astroid                            2.1.0      \n",
      "astropy                            3.1        \n",
      "atomicwrites                       1.2.1      \n",
      "attrs                              18.2.0     \n",
      "Babel                              2.6.0      \n",
      "backcall                           0.1.0      \n",
      "backports.os                       0.1.1      \n",
      "backports.shutil-get-terminal-size 1.0.0      \n",
      "bcolz                              1.2.1      \n",
      "beautifulsoup4                     4.6.3      \n",
      "bitarray                           0.8.3      \n",
      "bkcharts                           0.2        \n",
      "blaze                              0.11.3     \n",
      "bleach                             3.0.2      \n",
      "bokeh                              1.0.2      \n",
      "boto                               2.49.0     \n",
      "Bottleneck                         1.2.1      \n",
      "cachetools                         3.0.0      \n",
      "certifi                            2018.11.29 \n",
      "cffi                               1.11.5     \n",
      "chardet                            3.0.4      \n",
      "Click                              7.0        \n",
      "cloudpickle                        0.6.1      \n",
      "clyent                             1.2.2      \n",
      "colorama                           0.4.1      \n",
      "conda                              4.6.1      \n",
      "conda-build                        3.17.6     \n",
      "conda-verify                       3.1.1      \n",
      "contextlib2                        0.5.5      \n",
      "cryptography                       2.4.2      \n",
      "cycler                             0.10.0     \n",
      "cymem                              2.0.2      \n",
      "Cython                             0.29.2     \n",
      "cytoolz                            0.9.0.1    \n",
      "dask                               1.0.0      \n",
      "dataclasses                        0.6        \n",
      "datashape                          0.5.4      \n",
      "decorator                          4.3.0      \n",
      "defusedxml                         0.5.0      \n",
      "dill                               0.2.8.2    \n",
      "distributed                        1.25.1     \n",
      "docutils                           0.14       \n",
      "entrypoints                        0.2.3      \n",
      "enum34                             1.1.6      \n",
      "et-xmlfile                         1.0.1      \n",
      "fastai                             1.0.42     \n",
      "fastcache                          1.0.2      \n",
      "fastprogress                       0.1.18     \n",
      "feather-format                     0.4.0      \n",
      "filelock                           3.0.10     \n",
      "Flask                              1.0.2      \n",
      "Flask-Cors                         3.0.7      \n",
      "future                             0.17.1     \n",
      "gevent                             1.3.7      \n",
      "glob2                              0.6        \n",
      "gmpy2                              2.0.8      \n",
      "google-api-core                    1.7.0      \n",
      "google-api-python-client           1.7.7      \n",
      "google-auth                        1.6.2      \n",
      "google-auth-httplib2               0.0.3      \n",
      "google-cloud-bigquery              1.8.1      \n",
      "google-cloud-core                  0.29.1     \n",
      "google-cloud-dataproc              0.3.0      \n",
      "google-resumable-media             0.3.2      \n",
      "googleapis-common-protos           1.5.6      \n",
      "graphviz                           0.10.1     \n",
      "greenlet                           0.4.15     \n",
      "h5py                               2.8.0      \n",
      "heapdict                           1.0.0      \n",
      "html5lib                           1.0.1      \n",
      "httplib2                           0.12.0     \n",
      "idna                               2.8        \n",
      "imageio                            2.4.1      \n",
      "imagesize                          1.1.0      \n",
      "importlib-metadata                 0.6        \n",
      "ipykernel                          5.1.0      \n",
      "ipython                            7.2.0      \n",
      "ipython-genutils                   0.2.0      \n",
      "ipython-sql                        0.3.9      \n",
      "ipywidgets                         7.4.2      \n",
      "isort                              4.3.4      \n",
      "itsdangerous                       1.1.0      \n",
      "jdcal                              1.4        \n",
      "jedi                               0.13.2     \n",
      "jeepney                            0.4        \n",
      "Jinja2                             2.10       \n",
      "jsonschema                         2.6.0      \n",
      "jupyter                            1.0.0      \n",
      "jupyter-client                     5.2.4      \n",
      "jupyter-console                    6.0.0      \n",
      "jupyter-contrib-core               0.3.3      \n",
      "jupyter-contrib-nbextensions       0.5.1      \n",
      "jupyter-core                       4.4.0      \n",
      "jupyter-highlight-selected-word    0.2.0      \n",
      "jupyter-http-over-ws               0.0.2      \n",
      "jupyter-latex-envs                 1.4.6      \n",
      "jupyter-nbextensions-configurator  0.4.1      \n",
      "jupyterlab                         0.35.4     \n",
      "jupyterlab-git                     0.5.0      \n",
      "jupyterlab-server                  0.2.0      \n",
      "kaggle                             1.5.3      \n",
      "keyring                            17.0.0     \n",
      "kiwisolver                         1.0.1      \n",
      "lazy-object-proxy                  1.3.1      \n",
      "libarchive-c                       2.8        \n",
      "lief                               0.9.0      \n",
      "llvmlite                           0.26.0     \n",
      "locket                             0.2.0      \n",
      "lxml                               4.2.5      \n",
      "MarkupSafe                         1.1.0      \n",
      "matplotlib                         3.0.2      \n",
      "mccabe                             0.6.1      \n",
      "mistune                            0.8.4      \n",
      "mkl-fft                            1.0.6      \n",
      "mkl-random                         1.0.2      \n",
      "more-itertools                     4.3.0      \n",
      "mpmath                             1.1.0      \n",
      "msgpack                            0.5.6      \n",
      "msgpack-numpy                      0.4.3.2    \n",
      "mudicom                            0.1.2      \n",
      "multipledispatch                   0.6.0      \n",
      "murmurhash                         1.0.1      \n",
      "navigator-updater                  0.2.1      \n",
      "nb-conda                           2.2.1      \n",
      "nb-conda-kernels                   2.2.0      \n",
      "nbconvert                          5.4.0      \n",
      "nbformat                           4.4.0      \n",
      "nbpresent                          3.0.2      \n",
      "networkx                           2.2        \n",
      "nltk                               3.4        \n",
      "nose                               1.3.7      \n",
      "notebook                           5.7.4      \n",
      "numba                              0.41.0     \n",
      "numexpr                            2.6.8      \n",
      "numpy                              1.15.4     \n",
      "numpydoc                           0.8.0      \n",
      "odo                                0.5.1      \n",
      "olefile                            0.46       \n",
      "opencv-contrib-python              3.4.2.17   \n",
      "opencv-python                      3.4.2.17   \n",
      "openpyxl                           2.5.12     \n",
      "packaging                          18.0       \n",
      "pandas                             0.23.4     \n",
      "pandocfilters                      1.4.2      \n",
      "parso                              0.3.2      \n",
      "partd                              0.3.9      \n",
      "path.py                            11.5.0     \n",
      "pathlib2                           2.3.3      \n",
      "patsy                              0.5.1      \n",
      "pep8                               1.7.1      \n",
      "pexpect                            4.6.0      \n",
      "pickleshare                        0.7.5      \n",
      "Pillow                             5.3.0      \n",
      "Pillow-SIMD                        5.3.0.post0\n",
      "pip                                19.0.3     \n",
      "pkginfo                            1.4.2      \n",
      "plac                               0.9.6      \n",
      "pluggy                             0.8.0      \n",
      "ply                                3.11       \n",
      "preshed                            2.0.1      \n",
      "prettytable                        0.7.2      \n",
      "prometheus-client                  0.5.0      \n",
      "prompt-toolkit                     2.0.7      \n",
      "protobuf                           3.6.1      \n",
      "psutil                             5.4.8      \n",
      "ptyprocess                         0.6.0      \n",
      "py                                 1.7.0      \n",
      "pyarrow                            0.12.1     \n",
      "pyasn1                             0.4.5      \n",
      "pyasn1-modules                     0.2.3      \n",
      "pycodestyle                        2.4.0      \n",
      "pycosat                            0.6.3      \n",
      "pycparser                          2.19       \n",
      "pycrypto                           2.6.1      \n",
      "pycurl                             7.43.0.2   \n",
      "pydicom                            1.2.2      \n",
      "pyflakes                           2.0.0      \n",
      "Pygments                           2.3.1      \n",
      "pylint                             2.2.2      \n",
      "pyodbc                             4.0.25     \n",
      "pyOpenSSL                          18.0.0     \n",
      "pyparsing                          2.3.0      \n",
      "PySocks                            1.6.8      \n",
      "pytest                             4.0.2      \n",
      "pytest-arraydiff                   0.3        \n",
      "pytest-astropy                     0.5.0      \n",
      "pytest-doctestplus                 0.2.0      \n",
      "pytest-openfiles                   0.3.1      \n",
      "pytest-remotedata                  0.3.1      \n",
      "python-dateutil                    2.7.5      \n",
      "python-slugify                     2.0.1      \n",
      "pytz                               2018.7     \n",
      "PyWavelets                         1.0.1      \n",
      "PyYAML                             3.13       \n",
      "pyzmq                              17.1.2     \n",
      "QtAwesome                          0.5.3      \n",
      "qtconsole                          4.4.3      \n",
      "QtPy                               1.5.2      \n",
      "regex                              2018.1.10  \n",
      "requests                           2.21.0     \n",
      "rope                               0.11.0     \n",
      "rsa                                4.0        \n",
      "ruamel-yaml                        0.15.46    \n",
      "scikit-image                       0.14.2     \n",
      "scikit-learn                       0.20.1     \n",
      "scipy                              1.1.0      \n",
      "seaborn                            0.9.0      \n",
      "SecretStorage                      3.1.0      \n",
      "Send2Trash                         1.5.0      \n",
      "setuptools                         40.8.0     \n",
      "simplegeneric                      0.8.1      \n",
      "singledispatch                     3.4.0.3    \n",
      "six                                1.12.0     \n",
      "snowballstemmer                    1.2.1      \n",
      "sortedcollections                  1.0.1      \n",
      "sortedcontainers                   2.1.0      \n",
      "spacy                              2.0.18     \n",
      "Sphinx                             1.8.2      \n",
      "sphinxcontrib-websupport           1.1.0      \n",
      "spyder                             3.3.2      \n",
      "spyder-kernels                     0.3.0      \n",
      "SQLAlchemy                         1.2.15     \n",
      "sqlparse                           0.2.4      \n",
      "statsmodels                        0.9.0      \n",
      "sympy                              1.3        \n",
      "tables                             3.4.4      \n",
      "tblib                              1.3.2      \n",
      "terminado                          0.8.1      \n",
      "testpath                           0.4.2      \n",
      "thinc                              6.12.1     \n",
      "toolz                              0.9.0      \n",
      "torch                              1.0.0      \n",
      "torchvision                        0.2.1      \n",
      "tornado                            5.1.1      \n",
      "tqdm                               4.31.1     \n",
      "traitlets                          4.3.2      \n",
      "typing                             3.6.4      \n",
      "ujson                              1.35       \n",
      "unicodecsv                         0.14.1     \n",
      "Unidecode                          1.0.23     \n",
      "uritemplate                        3.0.0      \n",
      "urllib3                            1.24.1     \n",
      "virtualenv                         16.4.1     \n",
      "wcwidth                            0.1.7      \n",
      "webencodings                       0.5.1      \n",
      "Werkzeug                           0.14.1     \n",
      "wheel                              0.33.1     \n",
      "widgetsnbextension                 3.4.2      \n",
      "wrapt                              1.10.11    \n",
      "wurlitzer                          1.0.2      \n",
      "xlrd                               1.2.0      \n",
      "XlsxWriter                         1.1.2      \n",
      "xlwt                               1.3.0      \n",
      "zict                               0.1.3      \n"
     ]
    }
   ],
   "source": [
    "!pip3 list"
   ]
  },
  {
   "cell_type": "code",
   "execution_count": null,
   "metadata": {},
   "outputs": [],
   "source": []
  }
 ],
 "metadata": {
  "kernelspec": {
   "display_name": "PN",
   "language": "python",
   "name": "pn"
  },
  "language_info": {
   "codemirror_mode": {
    "name": "ipython",
    "version": 3
   },
   "file_extension": ".py",
   "mimetype": "text/x-python",
   "name": "python",
   "nbconvert_exporter": "python",
   "pygments_lexer": "ipython3",
   "version": "3.7.1"
  }
 },
 "nbformat": 4,
 "nbformat_minor": 2
}
