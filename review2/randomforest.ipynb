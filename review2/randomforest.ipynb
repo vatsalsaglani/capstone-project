{
 "cells": [
  {
   "cell_type": "code",
   "execution_count": 1,
   "metadata": {},
   "outputs": [],
   "source": [
    "from fastai.imports import *\n",
    "from fastai.structured import *\n",
    "\n",
    "from pandas_summary import DataFrameSummary\n",
    "from sklearn.ensemble import RandomForestRegressor, RandomForestClassifier\n",
    "from IPython.display import display\n",
    "\n",
    "from sklearn import metrics"
   ]
  },
  {
   "cell_type": "code",
   "execution_count": 4,
   "metadata": {},
   "outputs": [],
   "source": [
    "df_all = pd.read_pickle('dcm-train-df')"
   ]
  },
  {
   "cell_type": "code",
   "execution_count": 5,
   "metadata": {},
   "outputs": [
    {
     "data": {
      "text/html": [
       "<div>\n",
       "<style scoped>\n",
       "    .dataframe tbody tr th:only-of-type {\n",
       "        vertical-align: middle;\n",
       "    }\n",
       "\n",
       "    .dataframe tbody tr th {\n",
       "        vertical-align: top;\n",
       "    }\n",
       "\n",
       "    .dataframe thead th {\n",
       "        text-align: right;\n",
       "    }\n",
       "</style>\n",
       "<table border=\"1\" class=\"dataframe\">\n",
       "  <thead>\n",
       "    <tr style=\"text-align: right;\">\n",
       "      <th></th>\n",
       "      <th>s_entropy</th>\n",
       "      <th>entropy</th>\n",
       "      <th>max_area</th>\n",
       "      <th>eccentricity</th>\n",
       "      <th>euler_number</th>\n",
       "      <th>solidity</th>\n",
       "      <th>perimeter</th>\n",
       "      <th>mean_area</th>\n",
       "      <th>std_area</th>\n",
       "      <th>thresh_img</th>\n",
       "      <th>...</th>\n",
       "      <th>en4</th>\n",
       "      <th>en5</th>\n",
       "      <th>en6</th>\n",
       "      <th>en7</th>\n",
       "      <th>en8</th>\n",
       "      <th>en9</th>\n",
       "      <th>en10</th>\n",
       "      <th>en11</th>\n",
       "      <th>en12</th>\n",
       "      <th>class</th>\n",
       "    </tr>\n",
       "  </thead>\n",
       "  <tbody>\n",
       "    <tr>\n",
       "      <th>7a1ddad0-eda0-4ae1-872f-50960e5abeff</th>\n",
       "      <td>6.32622</td>\n",
       "      <td>4.385</td>\n",
       "      <td>471436</td>\n",
       "      <td>0.55973</td>\n",
       "      <td>-49</td>\n",
       "      <td>0.775327</td>\n",
       "      <td>8745.16</td>\n",
       "      <td>7082</td>\n",
       "      <td>57589.5</td>\n",
       "      <td>80</td>\n",
       "      <td>...</td>\n",
       "      <td>0.246101</td>\n",
       "      <td>0.246628</td>\n",
       "      <td>0.246191</td>\n",
       "      <td>0.245536</td>\n",
       "      <td>0.246101</td>\n",
       "      <td>0.245382</td>\n",
       "      <td>0.243462</td>\n",
       "      <td>0.243399</td>\n",
       "      <td>0.243366</td>\n",
       "      <td>0</td>\n",
       "    </tr>\n",
       "    <tr>\n",
       "      <th>755c7169-e84a-4327-a4d6-b0ff906a88f8</th>\n",
       "      <td>7.71827</td>\n",
       "      <td>5.3499</td>\n",
       "      <td>1328</td>\n",
       "      <td>0.701463</td>\n",
       "      <td>0</td>\n",
       "      <td>0.397248</td>\n",
       "      <td>492.168</td>\n",
       "      <td>43</td>\n",
       "      <td>158.073</td>\n",
       "      <td>128</td>\n",
       "      <td>...</td>\n",
       "      <td>0.031161</td>\n",
       "      <td>0.028628</td>\n",
       "      <td>0.030995</td>\n",
       "      <td>0.029948</td>\n",
       "      <td>0.031161</td>\n",
       "      <td>0.026663</td>\n",
       "      <td>0.027085</td>\n",
       "      <td>0.028012</td>\n",
       "      <td>0.027291</td>\n",
       "      <td>1</td>\n",
       "    </tr>\n",
       "    <tr>\n",
       "      <th>f29e3380-0224-468d-b0b0-b2ba8892e7a5</th>\n",
       "      <td>7.55772</td>\n",
       "      <td>5.23861</td>\n",
       "      <td>1256</td>\n",
       "      <td>0.994265</td>\n",
       "      <td>1</td>\n",
       "      <td>0.189356</td>\n",
       "      <td>549.428</td>\n",
       "      <td>31</td>\n",
       "      <td>118.975</td>\n",
       "      <td>122</td>\n",
       "      <td>...</td>\n",
       "      <td>0.031501</td>\n",
       "      <td>0.028871</td>\n",
       "      <td>0.031674</td>\n",
       "      <td>0.030598</td>\n",
       "      <td>0.031501</td>\n",
       "      <td>0.026700</td>\n",
       "      <td>0.027237</td>\n",
       "      <td>0.028446</td>\n",
       "      <td>0.026982</td>\n",
       "      <td>0</td>\n",
       "    </tr>\n",
       "    <tr>\n",
       "      <th>3537a092-af77-448a-9cfb-f28903403012</th>\n",
       "      <td>7.57827</td>\n",
       "      <td>5.25286</td>\n",
       "      <td>3826</td>\n",
       "      <td>0.921584</td>\n",
       "      <td>-2</td>\n",
       "      <td>0.570364</td>\n",
       "      <td>644.061</td>\n",
       "      <td>44</td>\n",
       "      <td>373.115</td>\n",
       "      <td>123</td>\n",
       "      <td>...</td>\n",
       "      <td>0.067969</td>\n",
       "      <td>0.067778</td>\n",
       "      <td>0.067938</td>\n",
       "      <td>0.067757</td>\n",
       "      <td>0.067969</td>\n",
       "      <td>0.067020</td>\n",
       "      <td>0.066706</td>\n",
       "      <td>0.066911</td>\n",
       "      <td>0.066770</td>\n",
       "      <td>0</td>\n",
       "    </tr>\n",
       "    <tr>\n",
       "      <th>d9b76cc0-f23b-4a92-8cba-08627b829b87</th>\n",
       "      <td>7.55487</td>\n",
       "      <td>5.23663</td>\n",
       "      <td>852</td>\n",
       "      <td>0.558342</td>\n",
       "      <td>-1</td>\n",
       "      <td>0.403218</td>\n",
       "      <td>508.54</td>\n",
       "      <td>17</td>\n",
       "      <td>67.8159</td>\n",
       "      <td>104</td>\n",
       "      <td>...</td>\n",
       "      <td>0.033670</td>\n",
       "      <td>0.030870</td>\n",
       "      <td>0.033590</td>\n",
       "      <td>0.033837</td>\n",
       "      <td>0.033670</td>\n",
       "      <td>0.028384</td>\n",
       "      <td>0.029122</td>\n",
       "      <td>0.031595</td>\n",
       "      <td>0.029242</td>\n",
       "      <td>0</td>\n",
       "    </tr>\n",
       "  </tbody>\n",
       "</table>\n",
       "<p>5 rows × 90 columns</p>\n",
       "</div>"
      ],
      "text/plain": [
       "                                     s_entropy  entropy max_area eccentricity  \\\n",
       "7a1ddad0-eda0-4ae1-872f-50960e5abeff   6.32622    4.385   471436      0.55973   \n",
       "755c7169-e84a-4327-a4d6-b0ff906a88f8   7.71827   5.3499     1328     0.701463   \n",
       "f29e3380-0224-468d-b0b0-b2ba8892e7a5   7.55772  5.23861     1256     0.994265   \n",
       "3537a092-af77-448a-9cfb-f28903403012   7.57827  5.25286     3826     0.921584   \n",
       "d9b76cc0-f23b-4a92-8cba-08627b829b87   7.55487  5.23663      852     0.558342   \n",
       "\n",
       "                                     euler_number  solidity perimeter  \\\n",
       "7a1ddad0-eda0-4ae1-872f-50960e5abeff          -49  0.775327   8745.16   \n",
       "755c7169-e84a-4327-a4d6-b0ff906a88f8            0  0.397248   492.168   \n",
       "f29e3380-0224-468d-b0b0-b2ba8892e7a5            1  0.189356   549.428   \n",
       "3537a092-af77-448a-9cfb-f28903403012           -2  0.570364   644.061   \n",
       "d9b76cc0-f23b-4a92-8cba-08627b829b87           -1  0.403218    508.54   \n",
       "\n",
       "                                     mean_area std_area thresh_img  ...    \\\n",
       "7a1ddad0-eda0-4ae1-872f-50960e5abeff      7082  57589.5         80  ...     \n",
       "755c7169-e84a-4327-a4d6-b0ff906a88f8        43  158.073        128  ...     \n",
       "f29e3380-0224-468d-b0b0-b2ba8892e7a5        31  118.975        122  ...     \n",
       "3537a092-af77-448a-9cfb-f28903403012        44  373.115        123  ...     \n",
       "d9b76cc0-f23b-4a92-8cba-08627b829b87        17  67.8159        104  ...     \n",
       "\n",
       "                                           en4       en5       en6       en7  \\\n",
       "7a1ddad0-eda0-4ae1-872f-50960e5abeff  0.246101  0.246628  0.246191  0.245536   \n",
       "755c7169-e84a-4327-a4d6-b0ff906a88f8  0.031161  0.028628  0.030995  0.029948   \n",
       "f29e3380-0224-468d-b0b0-b2ba8892e7a5  0.031501  0.028871  0.031674  0.030598   \n",
       "3537a092-af77-448a-9cfb-f28903403012  0.067969  0.067778  0.067938  0.067757   \n",
       "d9b76cc0-f23b-4a92-8cba-08627b829b87  0.033670  0.030870  0.033590  0.033837   \n",
       "\n",
       "                                           en8       en9      en10      en11  \\\n",
       "7a1ddad0-eda0-4ae1-872f-50960e5abeff  0.246101  0.245382  0.243462  0.243399   \n",
       "755c7169-e84a-4327-a4d6-b0ff906a88f8  0.031161  0.026663  0.027085  0.028012   \n",
       "f29e3380-0224-468d-b0b0-b2ba8892e7a5  0.031501  0.026700  0.027237  0.028446   \n",
       "3537a092-af77-448a-9cfb-f28903403012  0.067969  0.067020  0.066706  0.066911   \n",
       "d9b76cc0-f23b-4a92-8cba-08627b829b87  0.033670  0.028384  0.029122  0.031595   \n",
       "\n",
       "                                          en12  class  \n",
       "7a1ddad0-eda0-4ae1-872f-50960e5abeff  0.243366      0  \n",
       "755c7169-e84a-4327-a4d6-b0ff906a88f8  0.027291      1  \n",
       "f29e3380-0224-468d-b0b0-b2ba8892e7a5  0.026982      0  \n",
       "3537a092-af77-448a-9cfb-f28903403012  0.066770      0  \n",
       "d9b76cc0-f23b-4a92-8cba-08627b829b87  0.029242      0  \n",
       "\n",
       "[5 rows x 90 columns]"
      ]
     },
     "execution_count": 5,
     "metadata": {},
     "output_type": "execute_result"
    }
   ],
   "source": [
    "df_all.head()"
   ]
  },
  {
   "cell_type": "code",
   "execution_count": 6,
   "metadata": {},
   "outputs": [],
   "source": [
    "df, y, nas = proc_df(df_all, 'class')"
   ]
  },
  {
   "cell_type": "code",
   "execution_count": 7,
   "metadata": {},
   "outputs": [],
   "source": [
    "m = RandomForestClassifier(n_jobs=-1)"
   ]
  },
  {
   "cell_type": "code",
   "execution_count": 8,
   "metadata": {},
   "outputs": [
    {
     "name": "stderr",
     "output_type": "stream",
     "text": [
      "/opt/anaconda3/lib/python3.7/site-packages/sklearn/ensemble/forest.py:246: FutureWarning: The default value of n_estimators will change from 10 in version 0.20 to 100 in 0.22.\n",
      "  \"10 in version 0.20 to 100 in 0.22.\", FutureWarning)\n"
     ]
    },
    {
     "data": {
      "text/plain": [
       "RandomForestClassifier(bootstrap=True, class_weight=None, criterion='gini',\n",
       "            max_depth=None, max_features='auto', max_leaf_nodes=None,\n",
       "            min_impurity_decrease=0.0, min_impurity_split=None,\n",
       "            min_samples_leaf=1, min_samples_split=2,\n",
       "            min_weight_fraction_leaf=0.0, n_estimators=10, n_jobs=-1,\n",
       "            oob_score=False, random_state=None, verbose=0,\n",
       "            warm_start=False)"
      ]
     },
     "execution_count": 8,
     "metadata": {},
     "output_type": "execute_result"
    }
   ],
   "source": [
    "m.fit(df, y)"
   ]
  },
  {
   "cell_type": "code",
   "execution_count": 9,
   "metadata": {},
   "outputs": [
    {
     "data": {
      "text/plain": [
       "0.983810523159946"
      ]
     },
     "execution_count": 9,
     "metadata": {},
     "output_type": "execute_result"
    }
   ],
   "source": [
    "m.score(df,y)"
   ]
  },
  {
   "cell_type": "code",
   "execution_count": 10,
   "metadata": {},
   "outputs": [
    {
     "data": {
      "text/html": [
       "<div>\n",
       "<style scoped>\n",
       "    .dataframe tbody tr th:only-of-type {\n",
       "        vertical-align: middle;\n",
       "    }\n",
       "\n",
       "    .dataframe tbody tr th {\n",
       "        vertical-align: top;\n",
       "    }\n",
       "\n",
       "    .dataframe thead th {\n",
       "        text-align: right;\n",
       "    }\n",
       "</style>\n",
       "<table border=\"1\" class=\"dataframe\">\n",
       "  <thead>\n",
       "    <tr style=\"text-align: right;\">\n",
       "      <th></th>\n",
       "      <th>s_entropy</th>\n",
       "      <th>entropy</th>\n",
       "      <th>max_area</th>\n",
       "      <th>eccentricity</th>\n",
       "      <th>euler_number</th>\n",
       "      <th>solidity</th>\n",
       "      <th>perimeter</th>\n",
       "      <th>mean_area</th>\n",
       "      <th>std_area</th>\n",
       "      <th>thresh_img</th>\n",
       "      <th>...</th>\n",
       "      <th>en3</th>\n",
       "      <th>en4</th>\n",
       "      <th>en5</th>\n",
       "      <th>en6</th>\n",
       "      <th>en7</th>\n",
       "      <th>en8</th>\n",
       "      <th>en9</th>\n",
       "      <th>en10</th>\n",
       "      <th>en11</th>\n",
       "      <th>en12</th>\n",
       "    </tr>\n",
       "  </thead>\n",
       "  <tbody>\n",
       "    <tr>\n",
       "      <th>7a1ddad0-eda0-4ae1-872f-50960e5abeff</th>\n",
       "      <td>268</td>\n",
       "      <td>268</td>\n",
       "      <td>4108</td>\n",
       "      <td>2186</td>\n",
       "      <td>59</td>\n",
       "      <td>18760</td>\n",
       "      <td>20453</td>\n",
       "      <td>577</td>\n",
       "      <td>15890</td>\n",
       "      <td>29</td>\n",
       "      <td>...</td>\n",
       "      <td>0.247929</td>\n",
       "      <td>0.246101</td>\n",
       "      <td>0.246628</td>\n",
       "      <td>0.246191</td>\n",
       "      <td>0.245536</td>\n",
       "      <td>0.246101</td>\n",
       "      <td>0.245382</td>\n",
       "      <td>0.243462</td>\n",
       "      <td>0.243399</td>\n",
       "      <td>0.243366</td>\n",
       "    </tr>\n",
       "    <tr>\n",
       "      <th>755c7169-e84a-4327-a4d6-b0ff906a88f8</th>\n",
       "      <td>22898</td>\n",
       "      <td>22898</td>\n",
       "      <td>1327</td>\n",
       "      <td>4664</td>\n",
       "      <td>108</td>\n",
       "      <td>1679</td>\n",
       "      <td>18085</td>\n",
       "      <td>44</td>\n",
       "      <td>11362</td>\n",
       "      <td>77</td>\n",
       "      <td>...</td>\n",
       "      <td>0.035403</td>\n",
       "      <td>0.031161</td>\n",
       "      <td>0.028628</td>\n",
       "      <td>0.030995</td>\n",
       "      <td>0.029948</td>\n",
       "      <td>0.031161</td>\n",
       "      <td>0.026663</td>\n",
       "      <td>0.027085</td>\n",
       "      <td>0.028012</td>\n",
       "      <td>0.027291</td>\n",
       "    </tr>\n",
       "    <tr>\n",
       "      <th>f29e3380-0224-468d-b0b0-b2ba8892e7a5</th>\n",
       "      <td>16555</td>\n",
       "      <td>16555</td>\n",
       "      <td>1256</td>\n",
       "      <td>25001</td>\n",
       "      <td>109</td>\n",
       "      <td>359</td>\n",
       "      <td>18531</td>\n",
       "      <td>32</td>\n",
       "      <td>9132</td>\n",
       "      <td>71</td>\n",
       "      <td>...</td>\n",
       "      <td>0.036960</td>\n",
       "      <td>0.031501</td>\n",
       "      <td>0.028871</td>\n",
       "      <td>0.031674</td>\n",
       "      <td>0.030598</td>\n",
       "      <td>0.031501</td>\n",
       "      <td>0.026700</td>\n",
       "      <td>0.027237</td>\n",
       "      <td>0.028446</td>\n",
       "      <td>0.026982</td>\n",
       "    </tr>\n",
       "    <tr>\n",
       "      <th>3537a092-af77-448a-9cfb-f28903403012</th>\n",
       "      <td>17468</td>\n",
       "      <td>17468</td>\n",
       "      <td>2969</td>\n",
       "      <td>17351</td>\n",
       "      <td>106</td>\n",
       "      <td>7867</td>\n",
       "      <td>18933</td>\n",
       "      <td>45</td>\n",
       "      <td>14612</td>\n",
       "      <td>72</td>\n",
       "      <td>...</td>\n",
       "      <td>0.069320</td>\n",
       "      <td>0.067969</td>\n",
       "      <td>0.067778</td>\n",
       "      <td>0.067938</td>\n",
       "      <td>0.067757</td>\n",
       "      <td>0.067969</td>\n",
       "      <td>0.067020</td>\n",
       "      <td>0.066706</td>\n",
       "      <td>0.066911</td>\n",
       "      <td>0.066770</td>\n",
       "    </tr>\n",
       "    <tr>\n",
       "      <th>d9b76cc0-f23b-4a92-8cba-08627b829b87</th>\n",
       "      <td>16430</td>\n",
       "      <td>16430</td>\n",
       "      <td>853</td>\n",
       "      <td>2160</td>\n",
       "      <td>107</td>\n",
       "      <td>1777</td>\n",
       "      <td>18241</td>\n",
       "      <td>18</td>\n",
       "      <td>4105</td>\n",
       "      <td>53</td>\n",
       "      <td>...</td>\n",
       "      <td>0.038921</td>\n",
       "      <td>0.033670</td>\n",
       "      <td>0.030870</td>\n",
       "      <td>0.033590</td>\n",
       "      <td>0.033837</td>\n",
       "      <td>0.033670</td>\n",
       "      <td>0.028384</td>\n",
       "      <td>0.029122</td>\n",
       "      <td>0.031595</td>\n",
       "      <td>0.029242</td>\n",
       "    </tr>\n",
       "  </tbody>\n",
       "</table>\n",
       "<p>5 rows × 89 columns</p>\n",
       "</div>"
      ],
      "text/plain": [
       "                                      s_entropy  entropy  max_area  \\\n",
       "7a1ddad0-eda0-4ae1-872f-50960e5abeff        268      268      4108   \n",
       "755c7169-e84a-4327-a4d6-b0ff906a88f8      22898    22898      1327   \n",
       "f29e3380-0224-468d-b0b0-b2ba8892e7a5      16555    16555      1256   \n",
       "3537a092-af77-448a-9cfb-f28903403012      17468    17468      2969   \n",
       "d9b76cc0-f23b-4a92-8cba-08627b829b87      16430    16430       853   \n",
       "\n",
       "                                      eccentricity  euler_number  solidity  \\\n",
       "7a1ddad0-eda0-4ae1-872f-50960e5abeff          2186            59     18760   \n",
       "755c7169-e84a-4327-a4d6-b0ff906a88f8          4664           108      1679   \n",
       "f29e3380-0224-468d-b0b0-b2ba8892e7a5         25001           109       359   \n",
       "3537a092-af77-448a-9cfb-f28903403012         17351           106      7867   \n",
       "d9b76cc0-f23b-4a92-8cba-08627b829b87          2160           107      1777   \n",
       "\n",
       "                                      perimeter  mean_area  std_area  \\\n",
       "7a1ddad0-eda0-4ae1-872f-50960e5abeff      20453        577     15890   \n",
       "755c7169-e84a-4327-a4d6-b0ff906a88f8      18085         44     11362   \n",
       "f29e3380-0224-468d-b0b0-b2ba8892e7a5      18531         32      9132   \n",
       "3537a092-af77-448a-9cfb-f28903403012      18933         45     14612   \n",
       "d9b76cc0-f23b-4a92-8cba-08627b829b87      18241         18      4105   \n",
       "\n",
       "                                      thresh_img    ...          en3  \\\n",
       "7a1ddad0-eda0-4ae1-872f-50960e5abeff          29    ...     0.247929   \n",
       "755c7169-e84a-4327-a4d6-b0ff906a88f8          77    ...     0.035403   \n",
       "f29e3380-0224-468d-b0b0-b2ba8892e7a5          71    ...     0.036960   \n",
       "3537a092-af77-448a-9cfb-f28903403012          72    ...     0.069320   \n",
       "d9b76cc0-f23b-4a92-8cba-08627b829b87          53    ...     0.038921   \n",
       "\n",
       "                                           en4       en5       en6       en7  \\\n",
       "7a1ddad0-eda0-4ae1-872f-50960e5abeff  0.246101  0.246628  0.246191  0.245536   \n",
       "755c7169-e84a-4327-a4d6-b0ff906a88f8  0.031161  0.028628  0.030995  0.029948   \n",
       "f29e3380-0224-468d-b0b0-b2ba8892e7a5  0.031501  0.028871  0.031674  0.030598   \n",
       "3537a092-af77-448a-9cfb-f28903403012  0.067969  0.067778  0.067938  0.067757   \n",
       "d9b76cc0-f23b-4a92-8cba-08627b829b87  0.033670  0.030870  0.033590  0.033837   \n",
       "\n",
       "                                           en8       en9      en10      en11  \\\n",
       "7a1ddad0-eda0-4ae1-872f-50960e5abeff  0.246101  0.245382  0.243462  0.243399   \n",
       "755c7169-e84a-4327-a4d6-b0ff906a88f8  0.031161  0.026663  0.027085  0.028012   \n",
       "f29e3380-0224-468d-b0b0-b2ba8892e7a5  0.031501  0.026700  0.027237  0.028446   \n",
       "3537a092-af77-448a-9cfb-f28903403012  0.067969  0.067020  0.066706  0.066911   \n",
       "d9b76cc0-f23b-4a92-8cba-08627b829b87  0.033670  0.028384  0.029122  0.031595   \n",
       "\n",
       "                                          en12  \n",
       "7a1ddad0-eda0-4ae1-872f-50960e5abeff  0.243366  \n",
       "755c7169-e84a-4327-a4d6-b0ff906a88f8  0.027291  \n",
       "f29e3380-0224-468d-b0b0-b2ba8892e7a5  0.026982  \n",
       "3537a092-af77-448a-9cfb-f28903403012  0.066770  \n",
       "d9b76cc0-f23b-4a92-8cba-08627b829b87  0.029242  \n",
       "\n",
       "[5 rows x 89 columns]"
      ]
     },
     "execution_count": 10,
     "metadata": {},
     "output_type": "execute_result"
    }
   ],
   "source": [
    "df.head()"
   ]
  },
  {
   "cell_type": "code",
   "execution_count": 11,
   "metadata": {},
   "outputs": [
    {
     "data": {
      "text/plain": [
       "((23684, 89), (23684,), (3000, 89))"
      ]
     },
     "execution_count": 11,
     "metadata": {},
     "output_type": "execute_result"
    }
   ],
   "source": [
    "def split_vals(a,n): return a[:n].copy(), a[n:].copy()\n",
    "\n",
    "n_valid = 3000  # same as Kaggle's test set size\n",
    "n_trn = len(df)-n_valid\n",
    "raw_train, raw_valid = split_vals(df_all, n_trn)\n",
    "X_train, X_valid = split_vals(df, n_trn)\n",
    "y_train, y_valid = split_vals(y, n_trn)\n",
    "\n",
    "X_train.shape, y_train.shape, X_valid.shape"
   ]
  },
  {
   "cell_type": "code",
   "execution_count": 12,
   "metadata": {},
   "outputs": [],
   "source": [
    "m = RandomForestClassifier(n_jobs=-1)"
   ]
  },
  {
   "cell_type": "code",
   "execution_count": 13,
   "metadata": {},
   "outputs": [
    {
     "name": "stderr",
     "output_type": "stream",
     "text": [
      "/opt/anaconda3/lib/python3.7/site-packages/sklearn/ensemble/forest.py:246: FutureWarning: The default value of n_estimators will change from 10 in version 0.20 to 100 in 0.22.\n",
      "  \"10 in version 0.20 to 100 in 0.22.\", FutureWarning)\n"
     ]
    },
    {
     "data": {
      "text/plain": [
       "RandomForestClassifier(bootstrap=True, class_weight=None, criterion='gini',\n",
       "            max_depth=None, max_features='auto', max_leaf_nodes=None,\n",
       "            min_impurity_decrease=0.0, min_impurity_split=None,\n",
       "            min_samples_leaf=1, min_samples_split=2,\n",
       "            min_weight_fraction_leaf=0.0, n_estimators=10, n_jobs=-1,\n",
       "            oob_score=False, random_state=None, verbose=0,\n",
       "            warm_start=False)"
      ]
     },
     "execution_count": 13,
     "metadata": {},
     "output_type": "execute_result"
    }
   ],
   "source": [
    "m.fit(X_train, y_train)"
   ]
  },
  {
   "cell_type": "code",
   "execution_count": 14,
   "metadata": {},
   "outputs": [
    {
     "data": {
      "text/plain": [
       "0.772"
      ]
     },
     "execution_count": 14,
     "metadata": {},
     "output_type": "execute_result"
    }
   ],
   "source": [
    "m.score(X_valid, y_valid)"
   ]
  },
  {
   "cell_type": "code",
   "execution_count": 28,
   "metadata": {},
   "outputs": [],
   "source": [
    "m = RandomForestClassifier(n_jobs=-1, n_estimators=20)"
   ]
  },
  {
   "cell_type": "code",
   "execution_count": 29,
   "metadata": {},
   "outputs": [
    {
     "data": {
      "text/plain": [
       "RandomForestClassifier(bootstrap=True, class_weight=None, criterion='gini',\n",
       "            max_depth=None, max_features='auto', max_leaf_nodes=None,\n",
       "            min_impurity_decrease=0.0, min_impurity_split=None,\n",
       "            min_samples_leaf=1, min_samples_split=2,\n",
       "            min_weight_fraction_leaf=0.0, n_estimators=20, n_jobs=-1,\n",
       "            oob_score=False, random_state=None, verbose=0,\n",
       "            warm_start=False)"
      ]
     },
     "execution_count": 29,
     "metadata": {},
     "output_type": "execute_result"
    }
   ],
   "source": [
    "m.fit(X_train, y_train)"
   ]
  },
  {
   "cell_type": "code",
   "execution_count": 30,
   "metadata": {},
   "outputs": [
    {
     "data": {
      "text/plain": [
       "0.787"
      ]
     },
     "execution_count": 30,
     "metadata": {},
     "output_type": "execute_result"
    }
   ],
   "source": [
    "m.score(X_valid, y_valid)"
   ]
  },
  {
   "cell_type": "code",
   "execution_count": 31,
   "metadata": {},
   "outputs": [
    {
     "data": {
      "text/plain": [
       "0.785"
      ]
     },
     "execution_count": 31,
     "metadata": {},
     "output_type": "execute_result"
    }
   ],
   "source": [
    "m = RandomForestClassifier(n_jobs=-1, n_estimators=40)\n",
    "m.fit(X_train, y_train)\n",
    "m.score(X_valid, y_valid)"
   ]
  },
  {
   "cell_type": "code",
   "execution_count": 33,
   "metadata": {},
   "outputs": [
    {
     "data": {
      "text/plain": [
       "0.7826666666666666"
      ]
     },
     "execution_count": 33,
     "metadata": {},
     "output_type": "execute_result"
    }
   ],
   "source": [
    "m = RandomForestClassifier(n_jobs=-1, n_estimators=100)\n",
    "m.fit(X_train, y_train)\n",
    "m.score(X_valid, y_valid)"
   ]
  },
  {
   "cell_type": "code",
   "execution_count": 34,
   "metadata": {},
   "outputs": [
    {
     "data": {
      "text/plain": [
       "0.7803333333333333"
      ]
     },
     "execution_count": 34,
     "metadata": {},
     "output_type": "execute_result"
    }
   ],
   "source": [
    "m = RandomForestClassifier(n_jobs=-1, n_estimators=150)\n",
    "m.fit(X_train, y_train)\n",
    "m.score(X_valid, y_valid)"
   ]
  },
  {
   "cell_type": "code",
   "execution_count": 35,
   "metadata": {},
   "outputs": [
    {
     "data": {
      "text/plain": [
       "0.7866666666666666"
      ]
     },
     "execution_count": 35,
     "metadata": {},
     "output_type": "execute_result"
    }
   ],
   "source": [
    "m = RandomForestClassifier(n_jobs=-1, n_estimators=200)\n",
    "m.fit(X_train, y_train)\n",
    "m.score(X_valid, y_valid)"
   ]
  },
  {
   "cell_type": "code",
   "execution_count": 36,
   "metadata": {},
   "outputs": [],
   "source": [
    "m = RandomForestClassifier(n_jobs=-1, bootstrap=True, n_estimators=20, oob_score=True)"
   ]
  },
  {
   "cell_type": "code",
   "execution_count": 37,
   "metadata": {},
   "outputs": [
    {
     "name": "stderr",
     "output_type": "stream",
     "text": [
      "/opt/anaconda3/lib/python3.7/site-packages/sklearn/ensemble/forest.py:458: UserWarning: Some inputs do not have OOB scores. This probably means too few trees were used to compute any reliable oob estimates.\n",
      "  warn(\"Some inputs do not have OOB scores. \"\n",
      "/opt/anaconda3/lib/python3.7/site-packages/sklearn/ensemble/forest.py:463: RuntimeWarning: divide by zero encountered in true_divide\n",
      "  predictions[k].sum(axis=1)[:, np.newaxis])\n",
      "/opt/anaconda3/lib/python3.7/site-packages/sklearn/ensemble/forest.py:463: RuntimeWarning: invalid value encountered in true_divide\n",
      "  predictions[k].sum(axis=1)[:, np.newaxis])\n"
     ]
    },
    {
     "data": {
      "text/plain": [
       "RandomForestClassifier(bootstrap=True, class_weight=None, criterion='gini',\n",
       "            max_depth=None, max_features='auto', max_leaf_nodes=None,\n",
       "            min_impurity_decrease=0.0, min_impurity_split=None,\n",
       "            min_samples_leaf=1, min_samples_split=2,\n",
       "            min_weight_fraction_leaf=0.0, n_estimators=20, n_jobs=-1,\n",
       "            oob_score=True, random_state=None, verbose=0, warm_start=False)"
      ]
     },
     "execution_count": 37,
     "metadata": {},
     "output_type": "execute_result"
    }
   ],
   "source": [
    "m.fit(X_train, y_train)"
   ]
  },
  {
   "cell_type": "code",
   "execution_count": 38,
   "metadata": {},
   "outputs": [
    {
     "data": {
      "text/plain": [
       "0.7796666666666666"
      ]
     },
     "execution_count": 38,
     "metadata": {},
     "output_type": "execute_result"
    }
   ],
   "source": [
    "m.score(X_valid,y_valid)"
   ]
  },
  {
   "cell_type": "code",
   "execution_count": 39,
   "metadata": {},
   "outputs": [
    {
     "data": {
      "text/plain": [
       "0.7714068569498396"
      ]
     },
     "execution_count": 39,
     "metadata": {},
     "output_type": "execute_result"
    }
   ],
   "source": [
    "m.oob_score_"
   ]
  },
  {
   "cell_type": "code",
   "execution_count": 57,
   "metadata": {},
   "outputs": [],
   "source": [
    "m = RandomForestClassifier(n_jobs=-1, bootstrap=True, n_estimators=20, oob_score=True, max_features=0.5)"
   ]
  },
  {
   "cell_type": "code",
   "execution_count": 58,
   "metadata": {},
   "outputs": [
    {
     "name": "stderr",
     "output_type": "stream",
     "text": [
      "/opt/anaconda3/lib/python3.7/site-packages/sklearn/ensemble/forest.py:458: UserWarning: Some inputs do not have OOB scores. This probably means too few trees were used to compute any reliable oob estimates.\n",
      "  warn(\"Some inputs do not have OOB scores. \"\n",
      "/opt/anaconda3/lib/python3.7/site-packages/sklearn/ensemble/forest.py:463: RuntimeWarning: divide by zero encountered in true_divide\n",
      "  predictions[k].sum(axis=1)[:, np.newaxis])\n",
      "/opt/anaconda3/lib/python3.7/site-packages/sklearn/ensemble/forest.py:463: RuntimeWarning: invalid value encountered in true_divide\n",
      "  predictions[k].sum(axis=1)[:, np.newaxis])\n"
     ]
    },
    {
     "data": {
      "text/plain": [
       "RandomForestClassifier(bootstrap=True, class_weight=None, criterion='gini',\n",
       "            max_depth=None, max_features=0.5, max_leaf_nodes=None,\n",
       "            min_impurity_decrease=0.0, min_impurity_split=None,\n",
       "            min_samples_leaf=1, min_samples_split=2,\n",
       "            min_weight_fraction_leaf=0.0, n_estimators=20, n_jobs=-1,\n",
       "            oob_score=True, random_state=None, verbose=0, warm_start=False)"
      ]
     },
     "execution_count": 58,
     "metadata": {},
     "output_type": "execute_result"
    }
   ],
   "source": [
    "m.fit(X_train, y_train)"
   ]
  },
  {
   "cell_type": "code",
   "execution_count": 59,
   "metadata": {},
   "outputs": [
    {
     "data": {
      "text/plain": [
       "0.7713333333333333"
      ]
     },
     "execution_count": 59,
     "metadata": {},
     "output_type": "execute_result"
    }
   ],
   "source": [
    "m.score(X_valid, y_valid)"
   ]
  },
  {
   "cell_type": "code",
   "execution_count": 60,
   "metadata": {},
   "outputs": [],
   "source": [
    "m = RandomForestClassifier(n_jobs=-1, bootstrap=True, n_estimators=20, oob_score=True, min_samples_leaf=5)"
   ]
  },
  {
   "cell_type": "code",
   "execution_count": 61,
   "metadata": {},
   "outputs": [
    {
     "name": "stderr",
     "output_type": "stream",
     "text": [
      "/opt/anaconda3/lib/python3.7/site-packages/sklearn/ensemble/forest.py:458: UserWarning: Some inputs do not have OOB scores. This probably means too few trees were used to compute any reliable oob estimates.\n",
      "  warn(\"Some inputs do not have OOB scores. \"\n",
      "/opt/anaconda3/lib/python3.7/site-packages/sklearn/ensemble/forest.py:463: RuntimeWarning: divide by zero encountered in true_divide\n",
      "  predictions[k].sum(axis=1)[:, np.newaxis])\n",
      "/opt/anaconda3/lib/python3.7/site-packages/sklearn/ensemble/forest.py:463: RuntimeWarning: invalid value encountered in true_divide\n",
      "  predictions[k].sum(axis=1)[:, np.newaxis])\n"
     ]
    },
    {
     "data": {
      "text/plain": [
       "RandomForestClassifier(bootstrap=True, class_weight=None, criterion='gini',\n",
       "            max_depth=None, max_features='auto', max_leaf_nodes=None,\n",
       "            min_impurity_decrease=0.0, min_impurity_split=None,\n",
       "            min_samples_leaf=5, min_samples_split=2,\n",
       "            min_weight_fraction_leaf=0.0, n_estimators=20, n_jobs=-1,\n",
       "            oob_score=True, random_state=None, verbose=0, warm_start=False)"
      ]
     },
     "execution_count": 61,
     "metadata": {},
     "output_type": "execute_result"
    }
   ],
   "source": [
    "m.fit(X_train, y_train)"
   ]
  },
  {
   "cell_type": "code",
   "execution_count": 62,
   "metadata": {},
   "outputs": [
    {
     "data": {
      "text/plain": [
       "0.78"
      ]
     },
     "execution_count": 62,
     "metadata": {},
     "output_type": "execute_result"
    }
   ],
   "source": [
    "m.score(X_valid, y_valid)"
   ]
  },
  {
   "cell_type": "code",
   "execution_count": 63,
   "metadata": {},
   "outputs": [
    {
     "data": {
      "text/plain": [
       "0.7803333333333333"
      ]
     },
     "execution_count": 63,
     "metadata": {},
     "output_type": "execute_result"
    }
   ],
   "source": [
    "m = RandomForestClassifier(n_jobs=-1, bootstrap=False, n_estimators=20, min_samples_leaf=5)\n",
    "m.fit(X_train, y_train)\n",
    "m.score(X_valid, y_valid)"
   ]
  },
  {
   "cell_type": "code",
   "execution_count": 64,
   "metadata": {},
   "outputs": [
    {
     "data": {
      "text/plain": [
       "0.7823333333333333"
      ]
     },
     "execution_count": 64,
     "metadata": {},
     "output_type": "execute_result"
    }
   ],
   "source": [
    "m = RandomForestClassifier(n_jobs=-1, bootstrap=False, n_estimators=20, min_samples_leaf=5, max_features=0.3)\n",
    "m.fit(X_train, y_train)\n",
    "m.score(X_valid, y_valid)"
   ]
  },
  {
   "cell_type": "code",
   "execution_count": 66,
   "metadata": {},
   "outputs": [
    {
     "data": {
      "text/plain": [
       "0.7886666666666666"
      ]
     },
     "execution_count": 66,
     "metadata": {},
     "output_type": "execute_result"
    }
   ],
   "source": [
    "m = RandomForestClassifier(n_jobs=-1, bootstrap=False, n_estimators=20, min_samples_leaf=10, max_features=0.6)\n",
    "m.fit(X_train, y_train)\n",
    "m.score(X_valid, y_valid)"
   ]
  },
  {
   "cell_type": "code",
   "execution_count": 67,
   "metadata": {},
   "outputs": [
    {
     "data": {
      "text/plain": [
       "0.7813333333333333"
      ]
     },
     "execution_count": 67,
     "metadata": {},
     "output_type": "execute_result"
    }
   ],
   "source": [
    "m = RandomForestClassifier(n_jobs=-1, bootstrap=False, n_estimators=20, min_samples_leaf=5, max_features=0.6)\n",
    "m.fit(X_train, y_train)\n",
    "m.score(X_valid, y_valid)"
   ]
  },
  {
   "cell_type": "code",
   "execution_count": 68,
   "metadata": {},
   "outputs": [
    {
     "data": {
      "text/plain": [
       "0.7836666666666666"
      ]
     },
     "execution_count": 68,
     "metadata": {},
     "output_type": "execute_result"
    }
   ],
   "source": [
    "m = RandomForestClassifier(n_jobs=-1, bootstrap=False, n_estimators=20, max_features=0.6)\n",
    "m.fit(X_train, y_train)\n",
    "m.score(X_valid, y_valid)"
   ]
  },
  {
   "cell_type": "code",
   "execution_count": 69,
   "metadata": {},
   "outputs": [
    {
     "data": {
      "text/plain": [
       "0.7843333333333333"
      ]
     },
     "execution_count": 69,
     "metadata": {},
     "output_type": "execute_result"
    }
   ],
   "source": [
    "m = RandomForestClassifier(n_jobs=-1, bootstrap=False, n_estimators=20, min_samples_leaf=10)\n",
    "m.fit(X_train, y_train)\n",
    "m.score(X_valid, y_valid)"
   ]
  },
  {
   "cell_type": "code",
   "execution_count": 73,
   "metadata": {},
   "outputs": [
    {
     "data": {
      "text/plain": [
       "0.7256666666666667"
      ]
     },
     "execution_count": 73,
     "metadata": {},
     "output_type": "execute_result"
    }
   ],
   "source": [
    "m = RandomForestClassifier(n_jobs=-1, bootstrap=False, n_estimators=20, max_features=87)\n",
    "m.fit(X_train, y_train)\n",
    "m.score(X_valid, y_valid)"
   ]
  },
  {
   "cell_type": "code",
   "execution_count": null,
   "metadata": {},
   "outputs": [],
   "source": []
  }
 ],
 "metadata": {
  "kernelspec": {
   "display_name": "Python 3",
   "language": "python",
   "name": "python3"
  },
  "language_info": {
   "codemirror_mode": {
    "name": "ipython",
    "version": 3
   },
   "file_extension": ".py",
   "mimetype": "text/x-python",
   "name": "python",
   "nbconvert_exporter": "python",
   "pygments_lexer": "ipython3",
   "version": "3.7.1"
  }
 },
 "nbformat": 4,
 "nbformat_minor": 2
}
