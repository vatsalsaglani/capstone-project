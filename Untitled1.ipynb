{
 "cells": [
  {
   "cell_type": "code",
   "execution_count": 1,
   "metadata": {
    "ExecuteTime": {
     "end_time": "2019-02-15T05:31:52.839024Z",
     "start_time": "2019-02-15T05:31:50.041904Z"
    },
    "collapsed": true
   },
   "outputs": [],
   "source": [
    "# all import statements\n",
    "import numpy as np\n",
    "import pandas as pd\n",
    "import pydicom as pyd\n",
    "import os\n",
    "import matplotlib.pyplot as plt\n",
    "import mudicom\n",
    "\n",
    "from os.path import dirname, join\n",
    "from pydicom.data import get_testdata_files\n",
    "from pydicom.filereader import read_dicomdir\n",
    "from PIL import Image\n",
    "from sklearn import decomposition\n",
    "import matplotlib.patches as patches"
   ]
  },
  {
   "cell_type": "code",
   "execution_count": 2,
   "metadata": {
    "ExecuteTime": {
     "end_time": "2019-02-15T05:32:10.318312Z",
     "start_time": "2019-02-15T05:32:10.314502Z"
    },
    "collapsed": true
   },
   "outputs": [],
   "source": [
    "PATH = 'data/stage_2_train_images/'"
   ]
  },
  {
   "cell_type": "code",
   "execution_count": 3,
   "metadata": {
    "ExecuteTime": {
     "end_time": "2019-02-15T05:32:25.250961Z",
     "start_time": "2019-02-15T05:32:24.965451Z"
    },
    "collapsed": true
   },
   "outputs": [],
   "source": [
    "lstFilesDCM = []  \n",
    "for dirName, subdirList, fileList in os.walk(PATH):\n",
    "    for filename in fileList:\n",
    "        if \".dcm\" in filename.lower():  # check whether the file's DICOM\n",
    "            lstFilesDCM.append(os.path.join(dirName,filename))"
   ]
  },
  {
   "cell_type": "code",
   "execution_count": 4,
   "metadata": {
    "ExecuteTime": {
     "end_time": "2019-02-15T05:34:03.012101Z",
     "start_time": "2019-02-15T05:34:03.005433Z"
    },
    "collapsed": true
   },
   "outputs": [],
   "source": [
    "dcm_200 = []\n",
    "for img in range(200):\n",
    "    dcm_200.append(lstFilesDCM[img])"
   ]
  },
  {
   "cell_type": "code",
   "execution_count": 5,
   "metadata": {
    "ExecuteTime": {
     "end_time": "2019-02-15T05:34:32.122627Z",
     "start_time": "2019-02-15T05:34:27.274848Z"
    },
    "collapsed": true
   },
   "outputs": [],
   "source": [
    "dcm_np = []\n",
    "pat_ids = []\n",
    "for dcm in dcm_200:\n",
    "    pat_ids.append(dcm.split('/')[2].split('.')[0])\n",
    "    img = mudicom.load(dcm)\n",
    "    img = img.image\n",
    "    img = img.numpy\n",
    "    dcm_np.append(img)"
   ]
  },
  {
   "cell_type": "code",
   "execution_count": 6,
   "metadata": {
    "ExecuteTime": {
     "end_time": "2019-02-15T05:34:37.431924Z",
     "start_time": "2019-02-15T05:34:37.424246Z"
    }
   },
   "outputs": [
    {
     "data": {
      "text/plain": [
       "(200, 200)"
      ]
     },
     "execution_count": 6,
     "metadata": {},
     "output_type": "execute_result"
    }
   ],
   "source": [
    "len(dcm_np), len(pat_ids)"
   ]
  },
  {
   "cell_type": "code",
   "execution_count": 7,
   "metadata": {
    "ExecuteTime": {
     "end_time": "2019-02-15T05:34:47.588065Z",
     "start_time": "2019-02-15T05:34:47.580588Z"
    }
   },
   "outputs": [
    {
     "data": {
      "text/plain": [
       "array([[255., 255., 255., ..., 255., 254., 138.],\n",
       "       [255., 254., 253., ..., 255., 255., 139.],\n",
       "       [255., 255., 254., ..., 255., 255., 139.],\n",
       "       ...,\n",
       "       [ 16.,  15.,  15., ...,  18.,  10.,   0.],\n",
       "       [ 16.,  16.,  15., ...,  18.,  10.,   0.],\n",
       "       [ 16.,  16.,  15., ...,  18.,  10.,   0.]])"
      ]
     },
     "execution_count": 7,
     "metadata": {},
     "output_type": "execute_result"
    }
   ],
   "source": [
    "dcm_np[1] #pixel array"
   ]
  },
  {
   "cell_type": "code",
   "execution_count": 8,
   "metadata": {
    "ExecuteTime": {
     "end_time": "2019-02-15T05:34:57.010096Z",
     "start_time": "2019-02-15T05:34:57.001492Z"
    }
   },
   "outputs": [
    {
     "data": {
      "text/plain": [
       "(1024, 1024)"
      ]
     },
     "execution_count": 8,
     "metadata": {},
     "output_type": "execute_result"
    }
   ],
   "source": [
    "dcm_np[1].shape"
   ]
  },
  {
   "cell_type": "code",
   "execution_count": 9,
   "metadata": {
    "ExecuteTime": {
     "end_time": "2019-02-15T05:54:16.741174Z",
     "start_time": "2019-02-15T05:54:16.680660Z"
    },
    "collapsed": true
   },
   "outputs": [],
   "source": [
    "labels_data = pd.read_csv('data/stage_2_train_labels.csv')"
   ]
  },
  {
   "cell_type": "code",
   "execution_count": 10,
   "metadata": {
    "ExecuteTime": {
     "end_time": "2019-02-15T05:54:26.560978Z",
     "start_time": "2019-02-15T05:54:26.547182Z"
    }
   },
   "outputs": [
    {
     "data": {
      "text/html": [
       "<div>\n",
       "<style scoped>\n",
       "    .dataframe tbody tr th:only-of-type {\n",
       "        vertical-align: middle;\n",
       "    }\n",
       "\n",
       "    .dataframe tbody tr th {\n",
       "        vertical-align: top;\n",
       "    }\n",
       "\n",
       "    .dataframe thead th {\n",
       "        text-align: right;\n",
       "    }\n",
       "</style>\n",
       "<table border=\"1\" class=\"dataframe\">\n",
       "  <thead>\n",
       "    <tr style=\"text-align: right;\">\n",
       "      <th></th>\n",
       "      <th>patientId</th>\n",
       "      <th>x</th>\n",
       "      <th>y</th>\n",
       "      <th>width</th>\n",
       "      <th>height</th>\n",
       "      <th>Target</th>\n",
       "    </tr>\n",
       "  </thead>\n",
       "  <tbody>\n",
       "    <tr>\n",
       "      <th>0</th>\n",
       "      <td>0004cfab-14fd-4e49-80ba-63a80b6bddd6</td>\n",
       "      <td>NaN</td>\n",
       "      <td>NaN</td>\n",
       "      <td>NaN</td>\n",
       "      <td>NaN</td>\n",
       "      <td>0</td>\n",
       "    </tr>\n",
       "    <tr>\n",
       "      <th>1</th>\n",
       "      <td>00313ee0-9eaa-42f4-b0ab-c148ed3241cd</td>\n",
       "      <td>NaN</td>\n",
       "      <td>NaN</td>\n",
       "      <td>NaN</td>\n",
       "      <td>NaN</td>\n",
       "      <td>0</td>\n",
       "    </tr>\n",
       "    <tr>\n",
       "      <th>2</th>\n",
       "      <td>00322d4d-1c29-4943-afc9-b6754be640eb</td>\n",
       "      <td>NaN</td>\n",
       "      <td>NaN</td>\n",
       "      <td>NaN</td>\n",
       "      <td>NaN</td>\n",
       "      <td>0</td>\n",
       "    </tr>\n",
       "    <tr>\n",
       "      <th>3</th>\n",
       "      <td>003d8fa0-6bf1-40ed-b54c-ac657f8495c5</td>\n",
       "      <td>NaN</td>\n",
       "      <td>NaN</td>\n",
       "      <td>NaN</td>\n",
       "      <td>NaN</td>\n",
       "      <td>0</td>\n",
       "    </tr>\n",
       "    <tr>\n",
       "      <th>4</th>\n",
       "      <td>00436515-870c-4b36-a041-de91049b9ab4</td>\n",
       "      <td>264.0</td>\n",
       "      <td>152.0</td>\n",
       "      <td>213.0</td>\n",
       "      <td>379.0</td>\n",
       "      <td>1</td>\n",
       "    </tr>\n",
       "  </tbody>\n",
       "</table>\n",
       "</div>"
      ],
      "text/plain": [
       "                              patientId      x      y  width  height  Target\n",
       "0  0004cfab-14fd-4e49-80ba-63a80b6bddd6    NaN    NaN    NaN     NaN       0\n",
       "1  00313ee0-9eaa-42f4-b0ab-c148ed3241cd    NaN    NaN    NaN     NaN       0\n",
       "2  00322d4d-1c29-4943-afc9-b6754be640eb    NaN    NaN    NaN     NaN       0\n",
       "3  003d8fa0-6bf1-40ed-b54c-ac657f8495c5    NaN    NaN    NaN     NaN       0\n",
       "4  00436515-870c-4b36-a041-de91049b9ab4  264.0  152.0  213.0   379.0       1"
      ]
     },
     "execution_count": 10,
     "metadata": {},
     "output_type": "execute_result"
    }
   ],
   "source": [
    "labels_data.head()"
   ]
  },
  {
   "cell_type": "code",
   "execution_count": 11,
   "metadata": {
    "ExecuteTime": {
     "end_time": "2019-02-15T05:55:27.472332Z",
     "start_time": "2019-02-15T05:55:27.463875Z"
    },
    "collapsed": true
   },
   "outputs": [],
   "source": [
    "labels_patID = labels_data.patientId.values.tolist()\n",
    "\n",
    "labels_target = labels_data.Target.values.tolist()\n",
    "\n",
    "labels_x = labels_data.x.values.tolist()\n",
    "\n",
    "labels_y = labels_data.y.values.tolist()\n",
    "\n",
    "labels_height = labels_data.height.values.tolist()\n",
    "\n",
    "labels_width = labels_data.width.values.tolist()"
   ]
  },
  {
   "cell_type": "code",
   "execution_count": 12,
   "metadata": {
    "ExecuteTime": {
     "end_time": "2019-02-15T05:56:57.067551Z",
     "start_time": "2019-02-15T05:56:56.937491Z"
    },
    "collapsed": true
   },
   "outputs": [],
   "source": [
    "dcm_np_target = []\n",
    "dcm_np_x = []\n",
    "dcm_np_y = []\n",
    "dcm_np_height = []\n",
    "dcm_np_width = []\n",
    "for data in pat_ids:\n",
    "    if data in labels_patID:\n",
    "        idx = labels_patID.index(data)\n",
    "        dcm_np_target.append(labels_target[idx])\n",
    "        dcm_np_x.append(labels_x[idx])\n",
    "        dcm_np_y.append(labels_y[idx])\n",
    "        dcm_np_height.append(labels_height[idx])\n",
    "        dcm_np_width.append(labels_width[idx])"
   ]
  },
  {
   "cell_type": "code",
   "execution_count": 13,
   "metadata": {
    "ExecuteTime": {
     "end_time": "2019-02-15T05:57:46.701596Z",
     "start_time": "2019-02-15T05:57:46.695722Z"
    }
   },
   "outputs": [
    {
     "data": {
      "text/plain": [
       "(200, 200, 200, 200, 200)"
      ]
     },
     "execution_count": 13,
     "metadata": {},
     "output_type": "execute_result"
    }
   ],
   "source": [
    "len(dcm_np_target), len(dcm_np_x), len(dcm_np_y), len(dcm_np_height), len(dcm_np_width)"
   ]
  },
  {
   "cell_type": "code",
   "execution_count": 15,
   "metadata": {
    "ExecuteTime": {
     "end_time": "2019-02-15T05:58:29.284333Z",
     "start_time": "2019-02-15T05:58:29.278804Z"
    }
   },
   "outputs": [
    {
     "data": {
      "text/plain": [
       "200"
      ]
     },
     "execution_count": 15,
     "metadata": {},
     "output_type": "execute_result"
    }
   ],
   "source": [
    "len(pat_ids)"
   ]
  },
  {
   "cell_type": "code",
   "execution_count": 16,
   "metadata": {
    "ExecuteTime": {
     "end_time": "2019-02-15T05:58:35.823000Z",
     "start_time": "2019-02-15T05:58:35.812350Z"
    }
   },
   "outputs": [
    {
     "data": {
      "text/plain": [
       "200"
      ]
     },
     "execution_count": 16,
     "metadata": {},
     "output_type": "execute_result"
    }
   ],
   "source": [
    "len(dcm_np)"
   ]
  },
  {
   "cell_type": "code",
   "execution_count": 18,
   "metadata": {
    "ExecuteTime": {
     "end_time": "2019-02-15T05:58:54.001918Z",
     "start_time": "2019-02-15T05:58:53.996124Z"
    }
   },
   "outputs": [
    {
     "data": {
      "text/plain": [
       "(1024, 1024)"
      ]
     },
     "execution_count": 18,
     "metadata": {},
     "output_type": "execute_result"
    }
   ],
   "source": [
    "dcm_np[1].shape"
   ]
  },
  {
   "cell_type": "code",
   "execution_count": 19,
   "metadata": {
    "ExecuteTime": {
     "end_time": "2019-02-15T05:59:22.266484Z",
     "start_time": "2019-02-15T05:59:22.262378Z"
    },
    "collapsed": true
   },
   "outputs": [],
   "source": [
    "def show(img, title=None):\n",
    "    plt.imshow(img, cmap=plt.cm.bone)\n",
    "    if title is not None: plt.title = title"
   ]
  },
  {
   "cell_type": "code",
   "execution_count": 20,
   "metadata": {
    "ExecuteTime": {
     "end_time": "2019-02-15T06:01:38.596587Z",
     "start_time": "2019-02-15T06:01:27.165019Z"
    },
    "collapsed": true
   },
   "outputs": [],
   "source": [
    "dcm_np_low_rank = []\n",
    "# u, s, v = decomposition.randomized_svd(M2, 2)\n",
    "\n",
    "# low_rank = u @ np.diag(s) @ v\n",
    "\n",
    "for M in dcm_np:\n",
    "    u, s, v = decomposition.randomized_svd(M, 2)\n",
    "    M = u @ np.diag(s) @ v\n",
    "    dcm_np_low_rank.append(M)"
   ]
  },
  {
   "cell_type": "code",
   "execution_count": 21,
   "metadata": {
    "ExecuteTime": {
     "end_time": "2019-02-15T06:01:46.599813Z",
     "start_time": "2019-02-15T06:01:46.588092Z"
    }
   },
   "outputs": [
    {
     "data": {
      "text/plain": [
       "200"
      ]
     },
     "execution_count": 21,
     "metadata": {},
     "output_type": "execute_result"
    }
   ],
   "source": [
    "len(dcm_np_low_rank)"
   ]
  },
  {
   "cell_type": "code",
   "execution_count": 27,
   "metadata": {
    "ExecuteTime": {
     "end_time": "2019-02-15T06:03:22.886517Z",
     "start_time": "2019-02-15T06:03:22.879502Z"
    }
   },
   "outputs": [
    {
     "data": {
      "text/plain": [
       "0"
      ]
     },
     "execution_count": 27,
     "metadata": {},
     "output_type": "execute_result"
    }
   ],
   "source": [
    "dcm_np_target[1]"
   ]
  },
  {
   "cell_type": "code",
   "execution_count": 31,
   "metadata": {
    "ExecuteTime": {
     "end_time": "2019-02-15T06:04:31.643749Z",
     "start_time": "2019-02-15T06:04:31.389291Z"
    }
   },
   "outputs": [
    {
     "data": {
      "image/png": "[encoded data removed]",
      "text/plain": [
       "<Figure size 432x288 with 1 Axes>"
      ]
     },
     "metadata": {
      "needs_background": "light"
     },
     "output_type": "display_data"
    }
   ],
   "source": [
    "show(dcm_np_low_rank[1])"
   ]
  },
  {
   "cell_type": "code",
   "execution_count": null,
   "metadata": {
    "collapsed": true
   },
   "outputs": [],
   "source": []
  }
 ],
 "metadata": {
  "kernelspec": {
   "display_name": "CLA",
   "language": "python",
   "name": "cla"
  },
  "language_info": {
   "codemirror_mode": {
    "name": "ipython",
    "version": 3
   },
   "file_extension": ".py",
   "mimetype": "text/x-python",
   "name": "python",
   "nbconvert_exporter": "python",
   "pygments_lexer": "ipython3",
   "version": "3.7.2"
  },
  "toc": {
   "base_numbering": 1,
   "nav_menu": {},
   "number_sections": true,
   "sideBar": true,
   "skip_h1_title": false,
   "title_cell": "Table of Contents",
   "title_sidebar": "Contents",
   "toc_cell": false,
   "toc_position": {},
   "toc_section_display": true,
   "toc_window_display": false
  },
  "varInspector": {
   "cols": {
    "lenName": 16,
    "lenType": 16,
    "lenVar": 40
   },
   "kernels_config": {
    "python": {
     "delete_cmd_postfix": "",
     "delete_cmd_prefix": "del ",
     "library": "var_list.py",
     "varRefreshCmd": "print(var_dic_list())"
    },
    "r": {
     "delete_cmd_postfix": ") ",
     "delete_cmd_prefix": "rm(",
     "library": "var_list.r",
     "varRefreshCmd": "cat(var_dic_list()) "
    }
   },
   "types_to_exclude": [
    "module",
    "function",
    "builtin_function_or_method",
    "instance",
    "_Feature"
   ],
   "window_display": false
  }
 },
 "nbformat": 4,
 "nbformat_minor": 2
}
